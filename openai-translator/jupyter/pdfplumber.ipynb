{
 "cells": [
  {
   "cell_type": "markdown",
   "id": "1f89506a-6dda-4e4d-9c44-54f6815f59aa",
   "metadata": {},
   "source": [
    "## 使用 pdfplumber 解析 PDF 文件\n",
    "\n",
    "### 项目简介\n",
    "\n",
    "[pdfplumber](https://github.com/jsvine/pdfplumber) 项目(基于pdfminer.six开发)，支持解析PDF文件，获取每个文本字符、矩形和线条的详细信息。此外还支持表格提取和可视化调试。\n",
    "\n",
    "对于机器生成的PDF而言效果最佳，不适用于扫描得到的PDF。\n",
    "\n",
    "支持：Python 3.8~3.11\n",
    "\n",
    "![](images/pdfplumber.png)\n",
    "\n",
    "\n",
    "本 Notebook 主要内容如下：\n",
    "\n",
    "- 加载PDF文件\n",
    "- 提取单页文本\n",
    "- 提取单页表格\n",
    "- 可视化调试页面\n",
    "- 提取页面图像"
   ]
  },
  {
   "cell_type": "markdown",
   "id": "18fcace0-03a5-4840-8b46-ed5cf0dcda68",
   "metadata": {},
   "source": [
    "### 加载PDF文件\n",
    "\n",
    "要开始处理PDF，请调用`pdfplumber.open(x)`方法，其中`x`可以是：\n",
    "\n",
    "- PDF 文件路径\n",
    "- 作为字节加载的文件对象\n",
    "- 作为字节加载的类似文件的对象\n",
    "\n",
    "open方法将返回一个`pdfplumber.PDF`类的实例。\n",
    "\n",
    "##### 高级加载参数\n",
    "\n",
    "要加载受密码保护的PDF，请传递`password`关键字参数，例如：`pdfplumber.open(\"file.pdf\", password=\"test\")`。\n",
    "\n",
    "要设置布局分析参数到`pdfminer.six`的布局引擎中，请传递`laparams`关键字参数，例如：`pdfplumber.open(\"file.pdf\", laparams={\"line_overlap\": 0.7})`。\n",
    "\n"
   ]
  },
  {
   "cell_type": "markdown",
   "id": "84f147ee-9fb2-40ff-9bc9-a7a99bf5f99b",
   "metadata": {},
   "source": [
    "### pdfplumber.PDF 类(Top-level)\n",
    "\n",
    "`pdfplumber.PDF`类表示一个独立的PDF文件，两个主要成员变量：\n",
    "\n",
    "| 属性 | 描述 |\n",
    "|----------|-------------|\n",
    "|`.metadata`| 一个由PDF的 `Info` 尾部信息中的元数据键/值对组成的字典。通常包括 \"CreationDate,\" \"ModDate,\" \"Producer,\" 等等。|\n",
    "|`.pages`| 包含每个已加载页面的 `pdfplumber.Page` 实例的列表。|\n",
    "\n",
    "一个主要成员方法：\n",
    "\n",
    "| 方法 | 描述 |\n",
    "|--------|-------------|\n",
    "|`.close()`| 默认情况下，`Page` 对象会缓存其布局和对象信息，以避免重新处理。然而，在解析大型PDF时，这些缓存的属性可能需要大量内存。你可以使用此方法来清除缓存并释放内存。（在 `<= 0.5.25` 版本中，使用 `.flush_cache()`。）|"
   ]
  },
  {
   "cell_type": "code",
   "id": "1b500262-a7a8-4ad1-8bdf-47de01ddab9e",
   "metadata": {
    "ExecuteTime": {
     "end_time": "2024-12-19T14:13:18.624496Z",
     "start_time": "2024-12-19T14:13:18.154281Z"
    }
   },
   "source": [
    "import pdfplumber\n",
    "\n",
    "pdf = pdfplumber.open(\"The_Old_Man_of_the_Sea.pdf\")"
   ],
   "outputs": [],
   "execution_count": 1
  },
  {
   "cell_type": "code",
   "id": "76ccc94f-3cfb-4db4-bfdb-b368f0484bf8",
   "metadata": {
    "ExecuteTime": {
     "end_time": "2024-12-19T14:13:21.674717Z",
     "start_time": "2024-12-19T14:13:21.670655Z"
    }
   },
   "source": [
    "pdf.metadata"
   ],
   "outputs": [
    {
     "data": {
      "text/plain": [
       "{'CreationDate': \"D:20060717205532+08'00'\",\n",
       " 'Subject': 'For Personal Learning!',\n",
       " 'Author': 'Asiaing.com',\n",
       " 'Creator': 'PScript5.dll Version 5.2',\n",
       " 'Producer': 'Acrobat Distiller 7.0.5 (Windows)',\n",
       " 'ModDate': \"D:20060717210222+08'00'\",\n",
       " 'Title': 'Hemingway, Ernest - The Old Man and the Sea'}"
      ]
     },
     "execution_count": 2,
     "metadata": {},
     "output_type": "execute_result"
    }
   ],
   "execution_count": 2
  },
  {
   "cell_type": "code",
   "id": "6678c068-6782-4f88-b637-b2bf7ab97027",
   "metadata": {
    "ExecuteTime": {
     "end_time": "2024-12-19T14:13:31.871049Z",
     "start_time": "2024-12-19T14:13:31.853330Z"
    }
   },
   "source": [
    "pdf.pages"
   ],
   "outputs": [
    {
     "data": {
      "text/plain": [
       "[<Page:1>,\n",
       " <Page:2>,\n",
       " <Page:3>,\n",
       " <Page:4>,\n",
       " <Page:5>,\n",
       " <Page:6>,\n",
       " <Page:7>,\n",
       " <Page:8>,\n",
       " <Page:9>,\n",
       " <Page:10>,\n",
       " <Page:11>,\n",
       " <Page:12>,\n",
       " <Page:13>,\n",
       " <Page:14>,\n",
       " <Page:15>,\n",
       " <Page:16>,\n",
       " <Page:17>,\n",
       " <Page:18>,\n",
       " <Page:19>,\n",
       " <Page:20>,\n",
       " <Page:21>,\n",
       " <Page:22>,\n",
       " <Page:23>,\n",
       " <Page:24>,\n",
       " <Page:25>,\n",
       " <Page:26>,\n",
       " <Page:27>,\n",
       " <Page:28>,\n",
       " <Page:29>,\n",
       " <Page:30>,\n",
       " <Page:31>,\n",
       " <Page:32>,\n",
       " <Page:33>,\n",
       " <Page:34>,\n",
       " <Page:35>,\n",
       " <Page:36>,\n",
       " <Page:37>,\n",
       " <Page:38>,\n",
       " <Page:39>,\n",
       " <Page:40>,\n",
       " <Page:41>,\n",
       " <Page:42>,\n",
       " <Page:43>,\n",
       " <Page:44>,\n",
       " <Page:45>,\n",
       " <Page:46>,\n",
       " <Page:47>,\n",
       " <Page:48>,\n",
       " <Page:49>,\n",
       " <Page:50>,\n",
       " <Page:51>,\n",
       " <Page:52>]"
      ]
     },
     "execution_count": 3,
     "metadata": {},
     "output_type": "execute_result"
    }
   ],
   "execution_count": 3
  },
  {
   "cell_type": "code",
   "id": "0a7c47dc-d30d-4f30-9881-dcb7543e52e0",
   "metadata": {
    "ExecuteTime": {
     "end_time": "2024-12-19T14:13:35.988156Z",
     "start_time": "2024-12-19T14:13:35.985122Z"
    }
   },
   "source": [
    "type(pdf.pages[0])"
   ],
   "outputs": [
    {
     "data": {
      "text/plain": [
       "pdfplumber.page.Page"
      ]
     },
     "execution_count": 4,
     "metadata": {},
     "output_type": "execute_result"
    }
   ],
   "execution_count": 4
  },
  {
   "cell_type": "markdown",
   "id": "9b0d3374-01a5-406c-b91a-4b1f30941d77",
   "metadata": {},
   "source": [
    "### pdfplumber.Page 类\n",
    "\n",
    "`pdfplumber.Page` 类是 `pdfplumber` 的核心，表示PDF文件中一页单独的内容。\n",
    "\n",
    "当我们使用 `pdfplumber` 时，大部分操作都会围绕这个类展开。\n",
    "\n",
    "主要成员变量如下：\n",
    "\n",
    "| 属性 | 描述 |\n",
    "|----------|-------------|\n",
    "|`.page_number`| 顺序页码，从第一页开始为 `1`，第二页为 `2`，以此类推。|\n",
    "|`.width`| 页面的宽度。|\n",
    "|`.height`| 页面的高度。|\n",
    "|`.objects` / `.chars` / `.lines` / `.rects` / `.curves` / `.images`| 这些属性都是列表，每个列表包含页面上嵌入的每个此类对象的一个字典。\n"
   ]
  },
  {
   "cell_type": "code",
   "id": "1d2d7a97-f830-4be9-b5f2-e4c187d26927",
   "metadata": {
    "ExecuteTime": {
     "end_time": "2024-12-19T14:13:52.934532Z",
     "start_time": "2024-12-19T14:13:52.909315Z"
    }
   },
   "source": [
    "pdf = pdfplumber.open(\"test.pdf\")"
   ],
   "outputs": [],
   "execution_count": 5
  },
  {
   "cell_type": "code",
   "id": "4f05b7bd-91f5-4091-b460-93f3363baa24",
   "metadata": {
    "ExecuteTime": {
     "end_time": "2024-12-19T14:13:54.528252Z",
     "start_time": "2024-12-19T14:13:54.524147Z"
    }
   },
   "source": [
    "pages = pdf.pages\n",
    "print(pages)"
   ],
   "outputs": [
    {
     "name": "stdout",
     "output_type": "stream",
     "text": [
      "[<Page:1>, <Page:2>]\n"
     ]
    }
   ],
   "execution_count": 6
  },
  {
   "cell_type": "code",
   "id": "3a9be6ef-7345-4b16-878d-e5df3238471b",
   "metadata": {
    "ExecuteTime": {
     "end_time": "2024-12-19T14:13:55.923133Z",
     "start_time": "2024-12-19T14:13:55.919960Z"
    }
   },
   "source": [
    "pages[0].page_number"
   ],
   "outputs": [
    {
     "data": {
      "text/plain": [
       "1"
      ]
     },
     "execution_count": 7,
     "metadata": {},
     "output_type": "execute_result"
    }
   ],
   "execution_count": 7
  },
  {
   "cell_type": "code",
   "id": "ea51868e-9428-45bc-a958-a287160b08ff",
   "metadata": {
    "ExecuteTime": {
     "end_time": "2024-12-19T14:13:58.968333Z",
     "start_time": "2024-12-19T14:13:58.966034Z"
    }
   },
   "source": [
    "print(pages[0].width, pages[0].height)"
   ],
   "outputs": [
    {
     "name": "stdout",
     "output_type": "stream",
     "text": [
      "595 842\n"
     ]
    }
   ],
   "execution_count": 8
  },
  {
   "cell_type": "code",
   "id": "2f16a505-164c-4641-aef4-027c85d1a3f2",
   "metadata": {
    "ExecuteTime": {
     "end_time": "2024-12-19T14:14:55.868193Z",
     "start_time": "2024-12-19T14:14:55.786465Z"
    }
   },
   "source": [
    "# 可视化第1页\n",
    "pages[0].to_image()"
   ],
   "outputs": [
    {
     "ename": "ValueError",
     "evalue": "'png' is unsupported format",
     "output_type": "error",
     "traceback": [
      "\u001B[0;31m---------------------------------------------------------------------------\u001B[0m",
      "\u001B[0;31mValueError\u001B[0m                                Traceback (most recent call last)",
      "\u001B[0;32m/var/folders/p4/qg6f6bz94z10n2_w08mmhhk00000gn/T/ipykernel_1911/3692494185.py\u001B[0m in \u001B[0;36m?\u001B[0;34m()\u001B[0m\n\u001B[1;32m      1\u001B[0m \u001B[0;31m# 可视化第1页\u001B[0m\u001B[0;34m\u001B[0m\u001B[0;34m\u001B[0m\u001B[0m\n\u001B[0;32m----> 2\u001B[0;31m \u001B[0mpages\u001B[0m\u001B[0;34m[\u001B[0m\u001B[0;36m0\u001B[0m\u001B[0;34m]\u001B[0m\u001B[0;34m.\u001B[0m\u001B[0mto_image\u001B[0m\u001B[0;34m(\u001B[0m\u001B[0;34m)\u001B[0m\u001B[0;34m\u001B[0m\u001B[0;34m\u001B[0m\u001B[0m\n\u001B[0m",
      "\u001B[0;32m~/miniconda3/envs/openai-quickstart/lib/python3.10/site-packages/pdfplumber/page.py\u001B[0m in \u001B[0;36m?\u001B[0;34m(self, resolution, width, height)\u001B[0m\n\u001B[1;32m    427\u001B[0m             \u001B[0mresolution\u001B[0m \u001B[0;34m=\u001B[0m \u001B[0;36m72\u001B[0m \u001B[0;34m*\u001B[0m \u001B[0mwidth\u001B[0m \u001B[0;34m/\u001B[0m \u001B[0mself\u001B[0m\u001B[0;34m.\u001B[0m\u001B[0mwidth\u001B[0m\u001B[0;34m\u001B[0m\u001B[0;34m\u001B[0m\u001B[0m\n\u001B[1;32m    428\u001B[0m         \u001B[0;32melif\u001B[0m \u001B[0mheight\u001B[0m \u001B[0;32mis\u001B[0m \u001B[0;32mnot\u001B[0m \u001B[0;32mNone\u001B[0m\u001B[0;34m:\u001B[0m\u001B[0;34m\u001B[0m\u001B[0;34m\u001B[0m\u001B[0m\n\u001B[1;32m    429\u001B[0m             \u001B[0mresolution\u001B[0m \u001B[0;34m=\u001B[0m \u001B[0;36m72\u001B[0m \u001B[0;34m*\u001B[0m \u001B[0mheight\u001B[0m \u001B[0;34m/\u001B[0m \u001B[0mself\u001B[0m\u001B[0;34m.\u001B[0m\u001B[0mheight\u001B[0m\u001B[0;34m\u001B[0m\u001B[0;34m\u001B[0m\u001B[0m\n\u001B[1;32m    430\u001B[0m \u001B[0;34m\u001B[0m\u001B[0m\n\u001B[0;32m--> 431\u001B[0;31m         \u001B[0;32mreturn\u001B[0m \u001B[0mPageImage\u001B[0m\u001B[0;34m(\u001B[0m\u001B[0mself\u001B[0m\u001B[0;34m,\u001B[0m \u001B[0mresolution\u001B[0m\u001B[0;34m=\u001B[0m\u001B[0mresolution\u001B[0m \u001B[0;32mor\u001B[0m \u001B[0mDEFAULT_RESOLUTION\u001B[0m\u001B[0;34m)\u001B[0m\u001B[0;34m\u001B[0m\u001B[0;34m\u001B[0m\u001B[0m\n\u001B[0m",
      "\u001B[0;32m~/miniconda3/envs/openai-quickstart/lib/python3.10/site-packages/pdfplumber/display.py\u001B[0m in \u001B[0;36m?\u001B[0;34m(self, page, original, resolution)\u001B[0m\n\u001B[1;32m     91\u001B[0m         \u001B[0mresolution\u001B[0m\u001B[0;34m:\u001B[0m \u001B[0mUnion\u001B[0m\u001B[0;34m[\u001B[0m\u001B[0mint\u001B[0m\u001B[0;34m,\u001B[0m \u001B[0mfloat\u001B[0m\u001B[0;34m]\u001B[0m \u001B[0;34m=\u001B[0m \u001B[0mDEFAULT_RESOLUTION\u001B[0m\u001B[0;34m,\u001B[0m\u001B[0;34m\u001B[0m\u001B[0;34m\u001B[0m\u001B[0m\n\u001B[1;32m     92\u001B[0m     ):\n\u001B[1;32m     93\u001B[0m         \u001B[0mself\u001B[0m\u001B[0;34m.\u001B[0m\u001B[0mpage\u001B[0m \u001B[0;34m=\u001B[0m \u001B[0mpage\u001B[0m\u001B[0;34m\u001B[0m\u001B[0;34m\u001B[0m\u001B[0m\n\u001B[1;32m     94\u001B[0m         \u001B[0;32mif\u001B[0m \u001B[0moriginal\u001B[0m \u001B[0;32mis\u001B[0m \u001B[0;32mNone\u001B[0m\u001B[0;34m:\u001B[0m\u001B[0;34m\u001B[0m\u001B[0;34m\u001B[0m\u001B[0m\n\u001B[0;32m---> 95\u001B[0;31m             self.original = get_page_image(\n\u001B[0m\u001B[1;32m     96\u001B[0m                 \u001B[0mpage\u001B[0m\u001B[0;34m.\u001B[0m\u001B[0mpdf\u001B[0m\u001B[0;34m.\u001B[0m\u001B[0mstream\u001B[0m\u001B[0;34m,\u001B[0m \u001B[0mpage\u001B[0m\u001B[0;34m.\u001B[0m\u001B[0mpage_number\u001B[0m \u001B[0;34m-\u001B[0m \u001B[0;36m1\u001B[0m\u001B[0;34m,\u001B[0m \u001B[0mresolution\u001B[0m\u001B[0;34m\u001B[0m\u001B[0;34m\u001B[0m\u001B[0m\n\u001B[1;32m     97\u001B[0m             )\n\u001B[1;32m     98\u001B[0m         \u001B[0;32melse\u001B[0m\u001B[0;34m:\u001B[0m\u001B[0;34m\u001B[0m\u001B[0;34m\u001B[0m\u001B[0m\n",
      "\u001B[0;32m~/miniconda3/envs/openai-quickstart/lib/python3.10/site-packages/pdfplumber/display.py\u001B[0m in \u001B[0;36m?\u001B[0;34m(stream, page_no, resolution)\u001B[0m\n\u001B[1;32m     69\u001B[0m         ) as bg:\n\u001B[1;32m     70\u001B[0m             \u001B[0mbg\u001B[0m\u001B[0;34m.\u001B[0m\u001B[0mcomposite\u001B[0m\u001B[0;34m(\u001B[0m\u001B[0mimg\u001B[0m\u001B[0;34m,\u001B[0m \u001B[0;36m0\u001B[0m\u001B[0;34m,\u001B[0m \u001B[0;36m0\u001B[0m\u001B[0;34m)\u001B[0m\u001B[0;34m\u001B[0m\u001B[0;34m\u001B[0m\u001B[0m\n\u001B[1;32m     71\u001B[0m             \u001B[0;32mtry\u001B[0m\u001B[0;34m:\u001B[0m\u001B[0;34m\u001B[0m\u001B[0;34m\u001B[0m\u001B[0m\n\u001B[1;32m     72\u001B[0m                 \u001B[0mim\u001B[0m \u001B[0;34m=\u001B[0m \u001B[0mPIL\u001B[0m\u001B[0;34m.\u001B[0m\u001B[0mImage\u001B[0m\u001B[0;34m.\u001B[0m\u001B[0mopen\u001B[0m\u001B[0;34m(\u001B[0m\u001B[0mBytesIO\u001B[0m\u001B[0;34m(\u001B[0m\u001B[0mbg\u001B[0m\u001B[0;34m.\u001B[0m\u001B[0mmake_blob\u001B[0m\u001B[0;34m(\u001B[0m\u001B[0;34m\"png\"\u001B[0m\u001B[0;34m)\u001B[0m\u001B[0;34m)\u001B[0m\u001B[0;34m)\u001B[0m\u001B[0;34m\u001B[0m\u001B[0;34m\u001B[0m\u001B[0m\n\u001B[0;32m---> 73\u001B[0;31m             \u001B[0;32mexcept\u001B[0m \u001B[0mPIL\u001B[0m\u001B[0;34m.\u001B[0m\u001B[0mImage\u001B[0m\u001B[0;34m.\u001B[0m\u001B[0mDecompressionBombError\u001B[0m\u001B[0;34m:\u001B[0m\u001B[0;34m\u001B[0m\u001B[0;34m\u001B[0m\u001B[0m\n\u001B[0m\u001B[1;32m     74\u001B[0m                 raise PIL.Image.DecompressionBombError(\n\u001B[1;32m     75\u001B[0m                     \u001B[0;34m\"Image conversion raised a DecompressionBombError. \"\u001B[0m\u001B[0;34m\u001B[0m\u001B[0;34m\u001B[0m\u001B[0m\n\u001B[1;32m     76\u001B[0m                     \u001B[0;34m\"PIL.Image.MAX_IMAGE_PIXELS is currently set to \"\u001B[0m\u001B[0;34m\u001B[0m\u001B[0;34m\u001B[0m\u001B[0m\n",
      "\u001B[0;32m~/miniconda3/envs/openai-quickstart/lib/python3.10/site-packages/wand/image.py\u001B[0m in \u001B[0;36m?\u001B[0;34m(self, format)\u001B[0m\n\u001B[1;32m   9870\u001B[0m         \u001B[0;34m.\u001B[0m\u001B[0;34m.\u001B[0m \u001B[0mversionadded\u001B[0m\u001B[0;34m:\u001B[0m\u001B[0;34m:\u001B[0m \u001B[0;36m0.1\u001B[0m\u001B[0;36m.1\u001B[0m\u001B[0;34m\u001B[0m\u001B[0;34m\u001B[0m\u001B[0m\n\u001B[1;32m   9871\u001B[0m \u001B[0;34m\u001B[0m\u001B[0m\n\u001B[1;32m   9872\u001B[0m         \"\"\"\n\u001B[1;32m   9873\u001B[0m         \u001B[0;32mif\u001B[0m \u001B[0mformat\u001B[0m \u001B[0;32mis\u001B[0m \u001B[0;32mnot\u001B[0m \u001B[0;32mNone\u001B[0m\u001B[0;34m:\u001B[0m\u001B[0;34m\u001B[0m\u001B[0;34m\u001B[0m\u001B[0m\n\u001B[0;32m-> 9874\u001B[0;31m             \u001B[0;32mwith\u001B[0m \u001B[0mself\u001B[0m\u001B[0;34m.\u001B[0m\u001B[0mconvert\u001B[0m\u001B[0;34m(\u001B[0m\u001B[0mformat\u001B[0m\u001B[0;34m)\u001B[0m \u001B[0;32mas\u001B[0m \u001B[0mconverted\u001B[0m\u001B[0;34m:\u001B[0m\u001B[0;34m\u001B[0m\u001B[0;34m\u001B[0m\u001B[0m\n\u001B[0m\u001B[1;32m   9875\u001B[0m                 \u001B[0;32mreturn\u001B[0m \u001B[0mconverted\u001B[0m\u001B[0;34m.\u001B[0m\u001B[0mmake_blob\u001B[0m\u001B[0;34m(\u001B[0m\u001B[0;34m)\u001B[0m\u001B[0;34m\u001B[0m\u001B[0;34m\u001B[0m\u001B[0m\n\u001B[1;32m   9876\u001B[0m         \u001B[0mlibrary\u001B[0m\u001B[0;34m.\u001B[0m\u001B[0mMagickResetIterator\u001B[0m\u001B[0;34m(\u001B[0m\u001B[0mself\u001B[0m\u001B[0;34m.\u001B[0m\u001B[0mwand\u001B[0m\u001B[0;34m)\u001B[0m\u001B[0;34m\u001B[0m\u001B[0;34m\u001B[0m\u001B[0m\n\u001B[1;32m   9877\u001B[0m         \u001B[0mlength\u001B[0m \u001B[0;34m=\u001B[0m \u001B[0mctypes\u001B[0m\u001B[0;34m.\u001B[0m\u001B[0mc_size_t\u001B[0m\u001B[0;34m(\u001B[0m\u001B[0;34m)\u001B[0m\u001B[0;34m\u001B[0m\u001B[0;34m\u001B[0m\u001B[0m\n",
      "\u001B[0;32m~/miniconda3/envs/openai-quickstart/lib/python3.10/site-packages/wand/image.py\u001B[0m in \u001B[0;36m?\u001B[0;34m(self, format)\u001B[0m\n\u001B[1;32m   9755\u001B[0m         \u001B[0;34m.\u001B[0m\u001B[0;34m.\u001B[0m \u001B[0mversionadded\u001B[0m\u001B[0;34m:\u001B[0m\u001B[0;34m:\u001B[0m \u001B[0;36m0.1\u001B[0m\u001B[0;36m.6\u001B[0m\u001B[0;34m\u001B[0m\u001B[0;34m\u001B[0m\u001B[0m\n\u001B[1;32m   9756\u001B[0m \u001B[0;34m\u001B[0m\u001B[0m\n\u001B[1;32m   9757\u001B[0m         \"\"\"\n\u001B[1;32m   9758\u001B[0m         \u001B[0mcloned\u001B[0m \u001B[0;34m=\u001B[0m \u001B[0mself\u001B[0m\u001B[0;34m.\u001B[0m\u001B[0mclone\u001B[0m\u001B[0;34m(\u001B[0m\u001B[0;34m)\u001B[0m\u001B[0;34m\u001B[0m\u001B[0;34m\u001B[0m\u001B[0m\n\u001B[0;32m-> 9759\u001B[0;31m         \u001B[0mcloned\u001B[0m\u001B[0;34m.\u001B[0m\u001B[0mformat\u001B[0m \u001B[0;34m=\u001B[0m \u001B[0mformat\u001B[0m\u001B[0;34m\u001B[0m\u001B[0;34m\u001B[0m\u001B[0m\n\u001B[0m\u001B[1;32m   9760\u001B[0m         \u001B[0;32mreturn\u001B[0m \u001B[0mcloned\u001B[0m\u001B[0;34m\u001B[0m\u001B[0;34m\u001B[0m\u001B[0m\n",
      "\u001B[0;32m~/miniconda3/envs/openai-quickstart/lib/python3.10/site-packages/wand/image.py\u001B[0m in \u001B[0;36m?\u001B[0;34m(self, fmt)\u001B[0m\n\u001B[1;32m   1878\u001B[0m         \u001B[0massertions\u001B[0m\u001B[0;34m.\u001B[0m\u001B[0massert_string\u001B[0m\u001B[0;34m(\u001B[0m\u001B[0mformat\u001B[0m\u001B[0;34m=\u001B[0m\u001B[0mfmt\u001B[0m\u001B[0;34m)\u001B[0m\u001B[0;34m\u001B[0m\u001B[0;34m\u001B[0m\u001B[0m\n\u001B[1;32m   1879\u001B[0m         \u001B[0mfmt\u001B[0m \u001B[0;34m=\u001B[0m \u001B[0mfmt\u001B[0m\u001B[0;34m.\u001B[0m\u001B[0mstrip\u001B[0m\u001B[0;34m(\u001B[0m\u001B[0;34m)\u001B[0m\u001B[0;34m\u001B[0m\u001B[0;34m\u001B[0m\u001B[0m\n\u001B[1;32m   1880\u001B[0m         \u001B[0mr\u001B[0m \u001B[0;34m=\u001B[0m \u001B[0mlibrary\u001B[0m\u001B[0;34m.\u001B[0m\u001B[0mMagickSetImageFormat\u001B[0m\u001B[0;34m(\u001B[0m\u001B[0mself\u001B[0m\u001B[0;34m.\u001B[0m\u001B[0mwand\u001B[0m\u001B[0;34m,\u001B[0m \u001B[0mbinary\u001B[0m\u001B[0;34m(\u001B[0m\u001B[0mfmt\u001B[0m\u001B[0;34m.\u001B[0m\u001B[0mupper\u001B[0m\u001B[0;34m(\u001B[0m\u001B[0;34m)\u001B[0m\u001B[0;34m)\u001B[0m\u001B[0;34m)\u001B[0m\u001B[0;34m\u001B[0m\u001B[0;34m\u001B[0m\u001B[0m\n\u001B[1;32m   1881\u001B[0m         \u001B[0;32mif\u001B[0m \u001B[0;32mnot\u001B[0m \u001B[0mr\u001B[0m\u001B[0;34m:\u001B[0m\u001B[0;34m\u001B[0m\u001B[0;34m\u001B[0m\u001B[0m\n\u001B[0;32m-> 1882\u001B[0;31m             \u001B[0;32mraise\u001B[0m \u001B[0mValueError\u001B[0m\u001B[0;34m(\u001B[0m\u001B[0mrepr\u001B[0m\u001B[0;34m(\u001B[0m\u001B[0mfmt\u001B[0m\u001B[0;34m)\u001B[0m \u001B[0;34m+\u001B[0m \u001B[0;34m' is unsupported format'\u001B[0m\u001B[0;34m)\u001B[0m\u001B[0;34m\u001B[0m\u001B[0;34m\u001B[0m\u001B[0m\n\u001B[0m\u001B[1;32m   1883\u001B[0m         r = library.MagickSetFilename(self.wand,\n\u001B[1;32m   1884\u001B[0m                                       b'buffer.' + binary(fmt.lower()))\n\u001B[1;32m   1885\u001B[0m         \u001B[0;32mif\u001B[0m \u001B[0;32mnot\u001B[0m \u001B[0mr\u001B[0m\u001B[0;34m:\u001B[0m  \u001B[0;31m# pragma: no cover\u001B[0m\u001B[0;34m\u001B[0m\u001B[0;34m\u001B[0m\u001B[0m\n",
      "\u001B[0;31mValueError\u001B[0m: 'png' is unsupported format"
     ]
    }
   ],
   "execution_count": 13
  },
  {
   "cell_type": "code",
   "id": "8e2ecbfe-3051-42bc-8a4d-d68507dde9c1",
   "metadata": {
    "ExecuteTime": {
     "end_time": "2024-12-19T14:14:28.721879Z",
     "start_time": "2024-12-19T14:14:28.617663Z"
    }
   },
   "source": [
    "# 可视化第2页（尝试调整分辨率和抗锯齿）\n",
    "pages[1].to_image()"
   ],
   "outputs": [
    {
     "ename": "ValueError",
     "evalue": "'png' is unsupported format",
     "output_type": "error",
     "traceback": [
      "\u001B[0;31m---------------------------------------------------------------------------\u001B[0m",
      "\u001B[0;31mValueError\u001B[0m                                Traceback (most recent call last)",
      "\u001B[0;32m/var/folders/p4/qg6f6bz94z10n2_w08mmhhk00000gn/T/ipykernel_1911/4249438423.py\u001B[0m in \u001B[0;36m?\u001B[0;34m()\u001B[0m\n\u001B[1;32m      1\u001B[0m \u001B[0;31m# 可视化第2页（尝试调整分辨率和抗锯齿）\u001B[0m\u001B[0;34m\u001B[0m\u001B[0;34m\u001B[0m\u001B[0m\n\u001B[0;32m----> 2\u001B[0;31m \u001B[0mpages\u001B[0m\u001B[0;34m[\u001B[0m\u001B[0;36m1\u001B[0m\u001B[0;34m]\u001B[0m\u001B[0;34m.\u001B[0m\u001B[0mto_image\u001B[0m\u001B[0;34m(\u001B[0m\u001B[0;34m)\u001B[0m\u001B[0;34m\u001B[0m\u001B[0;34m\u001B[0m\u001B[0m\n\u001B[0m",
      "\u001B[0;32m~/miniconda3/envs/openai-quickstart/lib/python3.10/site-packages/pdfplumber/page.py\u001B[0m in \u001B[0;36m?\u001B[0;34m(self, resolution, width, height)\u001B[0m\n\u001B[1;32m    427\u001B[0m             \u001B[0mresolution\u001B[0m \u001B[0;34m=\u001B[0m \u001B[0;36m72\u001B[0m \u001B[0;34m*\u001B[0m \u001B[0mwidth\u001B[0m \u001B[0;34m/\u001B[0m \u001B[0mself\u001B[0m\u001B[0;34m.\u001B[0m\u001B[0mwidth\u001B[0m\u001B[0;34m\u001B[0m\u001B[0;34m\u001B[0m\u001B[0m\n\u001B[1;32m    428\u001B[0m         \u001B[0;32melif\u001B[0m \u001B[0mheight\u001B[0m \u001B[0;32mis\u001B[0m \u001B[0;32mnot\u001B[0m \u001B[0;32mNone\u001B[0m\u001B[0;34m:\u001B[0m\u001B[0;34m\u001B[0m\u001B[0;34m\u001B[0m\u001B[0m\n\u001B[1;32m    429\u001B[0m             \u001B[0mresolution\u001B[0m \u001B[0;34m=\u001B[0m \u001B[0;36m72\u001B[0m \u001B[0;34m*\u001B[0m \u001B[0mheight\u001B[0m \u001B[0;34m/\u001B[0m \u001B[0mself\u001B[0m\u001B[0;34m.\u001B[0m\u001B[0mheight\u001B[0m\u001B[0;34m\u001B[0m\u001B[0;34m\u001B[0m\u001B[0m\n\u001B[1;32m    430\u001B[0m \u001B[0;34m\u001B[0m\u001B[0m\n\u001B[0;32m--> 431\u001B[0;31m         \u001B[0;32mreturn\u001B[0m \u001B[0mPageImage\u001B[0m\u001B[0;34m(\u001B[0m\u001B[0mself\u001B[0m\u001B[0;34m,\u001B[0m \u001B[0mresolution\u001B[0m\u001B[0;34m=\u001B[0m\u001B[0mresolution\u001B[0m \u001B[0;32mor\u001B[0m \u001B[0mDEFAULT_RESOLUTION\u001B[0m\u001B[0;34m)\u001B[0m\u001B[0;34m\u001B[0m\u001B[0;34m\u001B[0m\u001B[0m\n\u001B[0m",
      "\u001B[0;32m~/miniconda3/envs/openai-quickstart/lib/python3.10/site-packages/pdfplumber/display.py\u001B[0m in \u001B[0;36m?\u001B[0;34m(self, page, original, resolution)\u001B[0m\n\u001B[1;32m     91\u001B[0m         \u001B[0mresolution\u001B[0m\u001B[0;34m:\u001B[0m \u001B[0mUnion\u001B[0m\u001B[0;34m[\u001B[0m\u001B[0mint\u001B[0m\u001B[0;34m,\u001B[0m \u001B[0mfloat\u001B[0m\u001B[0;34m]\u001B[0m \u001B[0;34m=\u001B[0m \u001B[0mDEFAULT_RESOLUTION\u001B[0m\u001B[0;34m,\u001B[0m\u001B[0;34m\u001B[0m\u001B[0;34m\u001B[0m\u001B[0m\n\u001B[1;32m     92\u001B[0m     ):\n\u001B[1;32m     93\u001B[0m         \u001B[0mself\u001B[0m\u001B[0;34m.\u001B[0m\u001B[0mpage\u001B[0m \u001B[0;34m=\u001B[0m \u001B[0mpage\u001B[0m\u001B[0;34m\u001B[0m\u001B[0;34m\u001B[0m\u001B[0m\n\u001B[1;32m     94\u001B[0m         \u001B[0;32mif\u001B[0m \u001B[0moriginal\u001B[0m \u001B[0;32mis\u001B[0m \u001B[0;32mNone\u001B[0m\u001B[0;34m:\u001B[0m\u001B[0;34m\u001B[0m\u001B[0;34m\u001B[0m\u001B[0m\n\u001B[0;32m---> 95\u001B[0;31m             self.original = get_page_image(\n\u001B[0m\u001B[1;32m     96\u001B[0m                 \u001B[0mpage\u001B[0m\u001B[0;34m.\u001B[0m\u001B[0mpdf\u001B[0m\u001B[0;34m.\u001B[0m\u001B[0mstream\u001B[0m\u001B[0;34m,\u001B[0m \u001B[0mpage\u001B[0m\u001B[0;34m.\u001B[0m\u001B[0mpage_number\u001B[0m \u001B[0;34m-\u001B[0m \u001B[0;36m1\u001B[0m\u001B[0;34m,\u001B[0m \u001B[0mresolution\u001B[0m\u001B[0;34m\u001B[0m\u001B[0;34m\u001B[0m\u001B[0m\n\u001B[1;32m     97\u001B[0m             )\n\u001B[1;32m     98\u001B[0m         \u001B[0;32melse\u001B[0m\u001B[0;34m:\u001B[0m\u001B[0;34m\u001B[0m\u001B[0;34m\u001B[0m\u001B[0m\n",
      "\u001B[0;32m~/miniconda3/envs/openai-quickstart/lib/python3.10/site-packages/pdfplumber/display.py\u001B[0m in \u001B[0;36m?\u001B[0;34m(stream, page_no, resolution)\u001B[0m\n\u001B[1;32m     69\u001B[0m         ) as bg:\n\u001B[1;32m     70\u001B[0m             \u001B[0mbg\u001B[0m\u001B[0;34m.\u001B[0m\u001B[0mcomposite\u001B[0m\u001B[0;34m(\u001B[0m\u001B[0mimg\u001B[0m\u001B[0;34m,\u001B[0m \u001B[0;36m0\u001B[0m\u001B[0;34m,\u001B[0m \u001B[0;36m0\u001B[0m\u001B[0;34m)\u001B[0m\u001B[0;34m\u001B[0m\u001B[0;34m\u001B[0m\u001B[0m\n\u001B[1;32m     71\u001B[0m             \u001B[0;32mtry\u001B[0m\u001B[0;34m:\u001B[0m\u001B[0;34m\u001B[0m\u001B[0;34m\u001B[0m\u001B[0m\n\u001B[1;32m     72\u001B[0m                 \u001B[0mim\u001B[0m \u001B[0;34m=\u001B[0m \u001B[0mPIL\u001B[0m\u001B[0;34m.\u001B[0m\u001B[0mImage\u001B[0m\u001B[0;34m.\u001B[0m\u001B[0mopen\u001B[0m\u001B[0;34m(\u001B[0m\u001B[0mBytesIO\u001B[0m\u001B[0;34m(\u001B[0m\u001B[0mbg\u001B[0m\u001B[0;34m.\u001B[0m\u001B[0mmake_blob\u001B[0m\u001B[0;34m(\u001B[0m\u001B[0;34m\"png\"\u001B[0m\u001B[0;34m)\u001B[0m\u001B[0;34m)\u001B[0m\u001B[0;34m)\u001B[0m\u001B[0;34m\u001B[0m\u001B[0;34m\u001B[0m\u001B[0m\n\u001B[0;32m---> 73\u001B[0;31m             \u001B[0;32mexcept\u001B[0m \u001B[0mPIL\u001B[0m\u001B[0;34m.\u001B[0m\u001B[0mImage\u001B[0m\u001B[0;34m.\u001B[0m\u001B[0mDecompressionBombError\u001B[0m\u001B[0;34m:\u001B[0m\u001B[0;34m\u001B[0m\u001B[0;34m\u001B[0m\u001B[0m\n\u001B[0m\u001B[1;32m     74\u001B[0m                 raise PIL.Image.DecompressionBombError(\n\u001B[1;32m     75\u001B[0m                     \u001B[0;34m\"Image conversion raised a DecompressionBombError. \"\u001B[0m\u001B[0;34m\u001B[0m\u001B[0;34m\u001B[0m\u001B[0m\n\u001B[1;32m     76\u001B[0m                     \u001B[0;34m\"PIL.Image.MAX_IMAGE_PIXELS is currently set to \"\u001B[0m\u001B[0;34m\u001B[0m\u001B[0;34m\u001B[0m\u001B[0m\n",
      "\u001B[0;32m~/miniconda3/envs/openai-quickstart/lib/python3.10/site-packages/wand/image.py\u001B[0m in \u001B[0;36m?\u001B[0;34m(self, format)\u001B[0m\n\u001B[1;32m   9870\u001B[0m         \u001B[0;34m.\u001B[0m\u001B[0;34m.\u001B[0m \u001B[0mversionadded\u001B[0m\u001B[0;34m:\u001B[0m\u001B[0;34m:\u001B[0m \u001B[0;36m0.1\u001B[0m\u001B[0;36m.1\u001B[0m\u001B[0;34m\u001B[0m\u001B[0;34m\u001B[0m\u001B[0m\n\u001B[1;32m   9871\u001B[0m \u001B[0;34m\u001B[0m\u001B[0m\n\u001B[1;32m   9872\u001B[0m         \"\"\"\n\u001B[1;32m   9873\u001B[0m         \u001B[0;32mif\u001B[0m \u001B[0mformat\u001B[0m \u001B[0;32mis\u001B[0m \u001B[0;32mnot\u001B[0m \u001B[0;32mNone\u001B[0m\u001B[0;34m:\u001B[0m\u001B[0;34m\u001B[0m\u001B[0;34m\u001B[0m\u001B[0m\n\u001B[0;32m-> 9874\u001B[0;31m             \u001B[0;32mwith\u001B[0m \u001B[0mself\u001B[0m\u001B[0;34m.\u001B[0m\u001B[0mconvert\u001B[0m\u001B[0;34m(\u001B[0m\u001B[0mformat\u001B[0m\u001B[0;34m)\u001B[0m \u001B[0;32mas\u001B[0m \u001B[0mconverted\u001B[0m\u001B[0;34m:\u001B[0m\u001B[0;34m\u001B[0m\u001B[0;34m\u001B[0m\u001B[0m\n\u001B[0m\u001B[1;32m   9875\u001B[0m                 \u001B[0;32mreturn\u001B[0m \u001B[0mconverted\u001B[0m\u001B[0;34m.\u001B[0m\u001B[0mmake_blob\u001B[0m\u001B[0;34m(\u001B[0m\u001B[0;34m)\u001B[0m\u001B[0;34m\u001B[0m\u001B[0;34m\u001B[0m\u001B[0m\n\u001B[1;32m   9876\u001B[0m         \u001B[0mlibrary\u001B[0m\u001B[0;34m.\u001B[0m\u001B[0mMagickResetIterator\u001B[0m\u001B[0;34m(\u001B[0m\u001B[0mself\u001B[0m\u001B[0;34m.\u001B[0m\u001B[0mwand\u001B[0m\u001B[0;34m)\u001B[0m\u001B[0;34m\u001B[0m\u001B[0;34m\u001B[0m\u001B[0m\n\u001B[1;32m   9877\u001B[0m         \u001B[0mlength\u001B[0m \u001B[0;34m=\u001B[0m \u001B[0mctypes\u001B[0m\u001B[0;34m.\u001B[0m\u001B[0mc_size_t\u001B[0m\u001B[0;34m(\u001B[0m\u001B[0;34m)\u001B[0m\u001B[0;34m\u001B[0m\u001B[0;34m\u001B[0m\u001B[0m\n",
      "\u001B[0;32m~/miniconda3/envs/openai-quickstart/lib/python3.10/site-packages/wand/image.py\u001B[0m in \u001B[0;36m?\u001B[0;34m(self, format)\u001B[0m\n\u001B[1;32m   9755\u001B[0m         \u001B[0;34m.\u001B[0m\u001B[0;34m.\u001B[0m \u001B[0mversionadded\u001B[0m\u001B[0;34m:\u001B[0m\u001B[0;34m:\u001B[0m \u001B[0;36m0.1\u001B[0m\u001B[0;36m.6\u001B[0m\u001B[0;34m\u001B[0m\u001B[0;34m\u001B[0m\u001B[0m\n\u001B[1;32m   9756\u001B[0m \u001B[0;34m\u001B[0m\u001B[0m\n\u001B[1;32m   9757\u001B[0m         \"\"\"\n\u001B[1;32m   9758\u001B[0m         \u001B[0mcloned\u001B[0m \u001B[0;34m=\u001B[0m \u001B[0mself\u001B[0m\u001B[0;34m.\u001B[0m\u001B[0mclone\u001B[0m\u001B[0;34m(\u001B[0m\u001B[0;34m)\u001B[0m\u001B[0;34m\u001B[0m\u001B[0;34m\u001B[0m\u001B[0m\n\u001B[0;32m-> 9759\u001B[0;31m         \u001B[0mcloned\u001B[0m\u001B[0;34m.\u001B[0m\u001B[0mformat\u001B[0m \u001B[0;34m=\u001B[0m \u001B[0mformat\u001B[0m\u001B[0;34m\u001B[0m\u001B[0;34m\u001B[0m\u001B[0m\n\u001B[0m\u001B[1;32m   9760\u001B[0m         \u001B[0;32mreturn\u001B[0m \u001B[0mcloned\u001B[0m\u001B[0;34m\u001B[0m\u001B[0;34m\u001B[0m\u001B[0m\n",
      "\u001B[0;32m~/miniconda3/envs/openai-quickstart/lib/python3.10/site-packages/wand/image.py\u001B[0m in \u001B[0;36m?\u001B[0;34m(self, fmt)\u001B[0m\n\u001B[1;32m   1878\u001B[0m         \u001B[0massertions\u001B[0m\u001B[0;34m.\u001B[0m\u001B[0massert_string\u001B[0m\u001B[0;34m(\u001B[0m\u001B[0mformat\u001B[0m\u001B[0;34m=\u001B[0m\u001B[0mfmt\u001B[0m\u001B[0;34m)\u001B[0m\u001B[0;34m\u001B[0m\u001B[0;34m\u001B[0m\u001B[0m\n\u001B[1;32m   1879\u001B[0m         \u001B[0mfmt\u001B[0m \u001B[0;34m=\u001B[0m \u001B[0mfmt\u001B[0m\u001B[0;34m.\u001B[0m\u001B[0mstrip\u001B[0m\u001B[0;34m(\u001B[0m\u001B[0;34m)\u001B[0m\u001B[0;34m\u001B[0m\u001B[0;34m\u001B[0m\u001B[0m\n\u001B[1;32m   1880\u001B[0m         \u001B[0mr\u001B[0m \u001B[0;34m=\u001B[0m \u001B[0mlibrary\u001B[0m\u001B[0;34m.\u001B[0m\u001B[0mMagickSetImageFormat\u001B[0m\u001B[0;34m(\u001B[0m\u001B[0mself\u001B[0m\u001B[0;34m.\u001B[0m\u001B[0mwand\u001B[0m\u001B[0;34m,\u001B[0m \u001B[0mbinary\u001B[0m\u001B[0;34m(\u001B[0m\u001B[0mfmt\u001B[0m\u001B[0;34m.\u001B[0m\u001B[0mupper\u001B[0m\u001B[0;34m(\u001B[0m\u001B[0;34m)\u001B[0m\u001B[0;34m)\u001B[0m\u001B[0;34m)\u001B[0m\u001B[0;34m\u001B[0m\u001B[0;34m\u001B[0m\u001B[0m\n\u001B[1;32m   1881\u001B[0m         \u001B[0;32mif\u001B[0m \u001B[0;32mnot\u001B[0m \u001B[0mr\u001B[0m\u001B[0;34m:\u001B[0m\u001B[0;34m\u001B[0m\u001B[0;34m\u001B[0m\u001B[0m\n\u001B[0;32m-> 1882\u001B[0;31m             \u001B[0;32mraise\u001B[0m \u001B[0mValueError\u001B[0m\u001B[0;34m(\u001B[0m\u001B[0mrepr\u001B[0m\u001B[0;34m(\u001B[0m\u001B[0mfmt\u001B[0m\u001B[0;34m)\u001B[0m \u001B[0;34m+\u001B[0m \u001B[0;34m' is unsupported format'\u001B[0m\u001B[0;34m)\u001B[0m\u001B[0;34m\u001B[0m\u001B[0;34m\u001B[0m\u001B[0m\n\u001B[0m\u001B[1;32m   1883\u001B[0m         r = library.MagickSetFilename(self.wand,\n\u001B[1;32m   1884\u001B[0m                                       b'buffer.' + binary(fmt.lower()))\n\u001B[1;32m   1885\u001B[0m         \u001B[0;32mif\u001B[0m \u001B[0;32mnot\u001B[0m \u001B[0mr\u001B[0m\u001B[0;34m:\u001B[0m  \u001B[0;31m# pragma: no cover\u001B[0m\u001B[0;34m\u001B[0m\u001B[0;34m\u001B[0m\u001B[0m\n",
      "\u001B[0;31mValueError\u001B[0m: 'png' is unsupported format"
     ]
    }
   ],
   "execution_count": 12
  },
  {
   "cell_type": "code",
   "execution_count": null,
   "id": "a800658b-c174-4ad2-a4c6-815bc21b08b5",
   "metadata": {},
   "outputs": [],
   "source": []
  },
  {
   "cell_type": "code",
   "execution_count": null,
   "id": "383841ab-b784-4323-ae47-d54a51fe150d",
   "metadata": {},
   "outputs": [],
   "source": []
  },
  {
   "cell_type": "code",
   "execution_count": null,
   "id": "661419f6-5cbc-4903-9ee4-38594feeafa0",
   "metadata": {},
   "outputs": [],
   "source": []
  },
  {
   "cell_type": "markdown",
   "id": "a356c12b-f32c-41f6-b0e8-eb5ab0845919",
   "metadata": {},
   "source": [
    "### 提取单页文本\n",
    "\n",
    "\n",
    "`pdfplumber`库支持从任何给定的页面(`pdfplumber.Page`)中提取文本（包括裁剪和派生页面）。\n",
    "\n",
    "在提取文本的基础功能外，同时支持保留文本布局，识别单词和搜索页面中的文本\n",
    "\n",
    "#### 文本提取方法\n",
    "\n",
    "`pdfplumber.Page` 对象可以调用以下方法：\n",
    "\n",
    "| 方法 | 描述 |\n",
    "|--------|-------------|\n",
    "|`.extract_text(x_tolerance=3, y_tolerance=3, layout=False, x_density=7.25, y_density=13, **kwargs)`| 将页面的所有字符对象汇集成一个单一的字符串。<ul><li><p>当 `layout=False` 时：在一个字符的 `x1` 和下一个字符的 `x0` 之间的差异大于 `x_tolerance` 时添加空格。在一个字符的 `doctop` 和下一个字符的 `doctop` 之间的差异大于 `y_tolerance` 时添加换行符。</p></li><li><p>当 `layout=True`（*实验性功能*）时：尝试模仿页面上文本的结构布局，使用 `x_density` 和 `y_density` 来确定每个\"点\"（PDF的度量单位）的最小字符/换行符数量。所有剩余的 `**kwargs` 都传递给 `.extract_words(...)`（见下文），这是计算布局的第一步。</p></li></ul>|\n",
    "|`.extract_text_simple(x_tolerance=3, y_tolerance=3)`| `.extract_text(...)` 的稍快但不太灵活的版本，使用更简单的逻辑。|\n",
    "|`.extract_words(x_tolerance=3, y_tolerance=3, keep_blank_chars=False, use_text_flow=False, horizontal_ltr=True, vertical_ttb=True, extra_attrs=[], split_at_punctuation=False, expand_ligatures=True)`| 返回所有看起来像单词的东西及其边界框的列表。单词被认为是字符序列，其中（对于\"直立\"字符）一个字符的 `x1` 和下一个字符的 `x0` 之间的差异小于或等于 `x_tolerance` *并且* 一个字符的 `doctop` 和下一个字符的 `doctop` 之间的差异小于或等于 `y_tolerance`。对于非直立字符，采取类似的方法，但是测量它们之间的垂直距离，而不是水平距离。参数 `horizontal_ltr` 和 `vertical_ttb` 表示是否应从左到右阅读单词（对于水平单词）/从上到下（对于垂直单词）。将 `keep_blank_chars` 更改为 `True` 将意味着空白字符被视为单词的一部分，而不是单词之间的空格。将 `use_text_flow` 更改为 `True` 将使用PDF的底层字符流作为排序和划分单词的指南，而不是预先按x/y位置排序字符。（这模仿了在PDF中拖动光标突出显示文本的方式；就像那样，顺序并不总是看起来逻辑。）传递 `extra_attrs` 列表（例如，`[\"fontname\", \"size\"]` 将限制每个单词的字符具有完全相同的值，对于这些[属性](#char-properties)，并且结果的单词dicts将指示这些属性。将 `split_at_punctuation` 设置为 `True` 将在 `string.punctuation` 指定的标点处强制分割标记；或者你可以通过传递一个字符串来指定分隔标点的列表，例如，<code>split_at_punctuation='!\"&\\'()*+,.:;<=>?@[\\]^\\`\\{\\|\\}~'</code>。除非你设置 `expand_ligatures=False`，否则将展开诸如 `ﬁ` 之类的连字成其组成字母（例如，`fi`）。|\n",
    "|`.extract_text_lines(layout=False, strip=True, return_chars=True, **kwargs)`|*实验性功能*，返回代表页面上文本行的字典列表。`strip` 参数类似于Python的 `str.strip()` 方法，并返回没有周围空白的 `text` 属性。（只有当 `layout = True` 时才相关。）将 `return_chars` 设置为 `False` 将排除从返回的文本行dicts中添加单个字符对象。剩余的 `**kwargs` 是你将传递给 `.extract_text(layout=True, ...)` 的参数。|\n",
    "|`.search(pattern, regex=True, case=True, main_group=0, return_groups=True, return_chars=True, layout=False, **kwargs)`|*实验性功能*，允许你搜索页面的文本，返回匹配查询的所有实例的列表。对于每个实例，响应字典对象包含匹配的文本、任何正则表达式组匹配、边界框坐标和字符对象本身。`pattern` 可以是编译的正则表达式、未编译的正则表达式或非正则字符串。如果 `regex` 是 `False`，则将模式视为非正则字符串。如果 `case` 是 `False`，则以不区分大小写的方式执行搜索。设置 `main_group` 将结果限制为 `pattern` 中的特定正则组（`0` 的默认值表示整个匹配）。将 `return_groups` 和/或 `return_chars` 设置为 `False` 将排除添加匹配的正则组和/或字符的列表（作为 `\"groups\"` 和 `\"chars\"` 添加到返回的dicts）。`layout` 参数的操作方式与 `.extract_text(...)` 相同。剩余的 `**kwargs` 是你将传递给 `.extract_text(layout=True, ...)` 的参数。 __注意__：零宽度和全空白匹配被丢弃，因为它们（通常）在页面上没有明确的位置。 |\n",
    "|`.dedupe_chars(tolerance=1)`| 返回页面的版本，其中删除了重复的字符 — 那些与其他字符共享相同的文本、字体名、大小和位置（在 `tolerance` x/y 内）的字符。（参见 [Issue #71](https://github.com/jsvine/pdfplumber/issues/71) 以理解动机。）|\n"
   ]
  },
  {
   "cell_type": "code",
   "id": "796103d6-0f83-4fd5-a9bd-5bc4b4c393a7",
   "metadata": {
    "ExecuteTime": {
     "end_time": "2024-12-19T14:15:22.449798Z",
     "start_time": "2024-12-19T14:15:22.410024Z"
    }
   },
   "source": [
    "# 获取单页文本\n",
    "p1_text = pages[0].extract_text()"
   ],
   "outputs": [],
   "execution_count": 14
  },
  {
   "cell_type": "code",
   "id": "ffed75f0-ec46-478f-9b83-ca0156127206",
   "metadata": {
    "ExecuteTime": {
     "end_time": "2024-12-19T14:15:23.059669Z",
     "start_time": "2024-12-19T14:15:23.057393Z"
    }
   },
   "source": [
    "print(p1_text)"
   ],
   "outputs": [
    {
     "name": "stdout",
     "output_type": "stream",
     "text": [
      "Test Data\n",
      "This dataset contains two test samples provided by ChatGPT, an AI language model by OpenAI.\n",
      "These samples include a markdown table and an English text passage, which can be used to test an\n",
      "English-to-Chinese translation software supporting both text and table formats.\n",
      "Text testing\n",
      "The quick brown fox jumps over the lazy dog. This pangram contains every letter of the English\n",
      "alphabet at least once. Pangrams are often used to test fonts, keyboards, and other text-related\n",
      "tools. In addition to English, there are pangrams in many other languages. Some pangrams are more\n",
      "difficult to construct due to the unique characteristics of the language.\n",
      "Table Testing\n",
      "Fruit Color Price (USD)\n",
      "Apple Red 1.20\n",
      "Banana Yellow 0.50\n",
      "Orange Orange 0.80\n",
      "Strawberry Red 2.50\n",
      "Blueberry Blue 3.00\n",
      "Kiwi Green 1.00\n",
      "Mango Orange 1.50\n",
      "Grape Purple 2.00\n"
     ]
    }
   ],
   "execution_count": 15
  },
  {
   "cell_type": "code",
   "id": "b1ec2811-01a9-4e9d-8171-d3b083cf97f0",
   "metadata": {
    "ExecuteTime": {
     "end_time": "2024-12-19T14:15:24.320121Z",
     "start_time": "2024-12-19T14:15:24.315924Z"
    }
   },
   "source": [
    "# 获取单页文本（保留布局）\n",
    "p1_text = pages[0].extract_text(layout=True)"
   ],
   "outputs": [],
   "execution_count": 16
  },
  {
   "cell_type": "code",
   "id": "510f03e4-1a88-4bf7-b71a-f03ce3215444",
   "metadata": {
    "ExecuteTime": {
     "end_time": "2024-12-19T14:15:25.048012Z",
     "start_time": "2024-12-19T14:15:25.045675Z"
    }
   },
   "source": [
    "print(p1_text)"
   ],
   "outputs": [
    {
     "name": "stdout",
     "output_type": "stream",
     "text": [
      "                                                                                  \n",
      "                                                                                  \n",
      "                                                                                  \n",
      "                                                                                  \n",
      "                                                                                  \n",
      "                                                                                  \n",
      "                                                                                  \n",
      "        Test    Data                                                              \n",
      "                                                                                  \n",
      "                                                                                  \n",
      "                                                                                  \n",
      "        This dataset contains two test samples provided by ChatGPT, an AI language model by OpenAI.\n",
      "        These samples include a markdown table and an English text passage, which can be used to test an\n",
      "        English-to-Chinese translation software supporting both text and table formats.\n",
      "                                                                                  \n",
      "                                                                                  \n",
      "        Text  testing                                                             \n",
      "                                                                                  \n",
      "                                                                                  \n",
      "        The quick brown fox jumps over the lazy dog. This pangram contains every letter of the English\n",
      "        alphabet at least once. Pangrams are often used to test fonts, keyboards, and other text-related\n",
      "        tools. In addition to English, there are pangrams in many other languages. Some pangrams are more\n",
      "                                                                                  \n",
      "        difficult to construct due to the unique characteristics of the language. \n",
      "                                                                                  \n",
      "        Table  Testing                                                            \n",
      "                                                                                  \n",
      "                                                                                  \n",
      "          Fruit                  Color            Price (USD)                     \n",
      "                                                                                  \n",
      "          Apple                  Red              1.20                            \n",
      "                                                                                  \n",
      "          Banana                 Yellow           0.50                            \n",
      "                                                                                  \n",
      "          Orange                 Orange           0.80                            \n",
      "                                                                                  \n",
      "          Strawberry             Red              2.50                            \n",
      "                                                                                  \n",
      "          Blueberry              Blue             3.00                            \n",
      "                                                                                  \n",
      "          Kiwi                   Green            1.00                            \n",
      "                                                                                  \n",
      "          Mango                  Orange           1.50                            \n",
      "                                                                                  \n",
      "          Grape                  Purple           2.00                            \n",
      "                                                                                  \n",
      "                                                                                  \n",
      "                                                                                  \n",
      "                                                                                  \n",
      "                                                                                  \n",
      "                                                                                  \n",
      "                                                                                  \n",
      "                                                                                  \n",
      "                                                                                  \n",
      "                                                                                  \n",
      "                                                                                  \n",
      "                                                                                  \n",
      "                                                                                  \n",
      "                                                                                  \n",
      "                                                                                  \n",
      "                                                                                  \n",
      "                                                                                  \n",
      "                                                                                  \n",
      "                                                                                  \n"
     ]
    }
   ],
   "execution_count": 17
  },
  {
   "cell_type": "markdown",
   "id": "2c5eb0e9-3dca-4e10-8435-3261f748796b",
   "metadata": {},
   "source": [
    "**注意：表格也被文本解析出来了**"
   ]
  },
  {
   "cell_type": "code",
   "id": "1c57a531-892b-4f5b-99ab-d3a00e4c6623",
   "metadata": {
    "ExecuteTime": {
     "end_time": "2024-12-19T14:15:35.088210Z",
     "start_time": "2024-12-19T14:15:35.086546Z"
    }
   },
   "source": [],
   "outputs": [],
   "execution_count": null
  },
  {
   "cell_type": "markdown",
   "id": "61b998ea-ec34-4467-96af-2145c5bb63d4",
   "metadata": {},
   "source": [
    "### 提取单页表格\n",
    "\n",
    "\n",
    "`pdfplumber` 对表格提取的方法大量借鉴了 [Anssi Nurminen 的硕士论文](http://dspace.cc.tut.fi/dpub/bitstream/handle/123456789/21520/Nurminen.pdf?sequence=3)，并受到 [Tabula](https://github.com/tabulapdf/tabula-extractor/issues/16) 的启发。\n",
    "\n",
    "它的工作原理如下：\n",
    "\n",
    "1. 对于任何给定的PDF页面，找到那些（a）明确定义的线条和/或（b）由页面上单词的对齐方式暗示的线条。\n",
    "2. 合并重叠的，或几乎重叠的，线条。\n",
    "3. 找到所有这些线条的交点。\n",
    "4. 找到使用这些交点作为顶点的最精细的矩形集合（即，单元格）。\n",
    "5. 将连续的单元格分组成表格。\n",
    "\n",
    "#### 表格提取方法\n",
    "\n",
    "`pdfplumber.Page` 对象可以调用以下方法：\n",
    "\n",
    "| 方法 | 描述 |\n",
    "|--------|-------------|\n",
    "|`.find_tables(table_settings={})`|返回一个 `Table` 对象的列表。`Table` 对象提供对 `.cells`，`.rows`，和 `.bbox` 属性的访问，以及 `.extract(x_tolerance=3, y_tolerance=3)` 方法。|\n",
    "|`.find_table(table_settings={})`|类似于 `.find_tables(...)`，但返回页面上 *最大* 的表格，作为一个 `Table` 对象。如果多个表格的大小相同 —— 以单元格数量衡量 —— 此方法返回最接近页面顶部的表格。|\n",
    "|`.extract_tables(table_settings={})`|返回从页面上找到的 *所有* 表格中提取的文本，表示为一个列表的列表的列表，结构为 `table -> row -> cell`。|\n",
    "|`.extract_table(table_settings={})`|返回从页面上 *最大* 的表格中提取的文本（参见上面的 `.find_table(...)`），表示为一个列表的列表，结构为 `row -> cell`。|\n",
    "|`.debug_tablefinder(table_settings={})`|返回 `TableFinder` 类的一个实例，可以访问 `.edges`，`.intersections`，`.cells`，和 `.tables` 属性。|"
   ]
  },
  {
   "cell_type": "code",
   "id": "f48b78be-103a-4efb-8c0e-1c7fb40cd880",
   "metadata": {
    "ExecuteTime": {
     "end_time": "2024-12-19T14:15:36.327264Z",
     "start_time": "2024-12-19T14:15:36.320566Z"
    }
   },
   "source": [
    "# 获取单页表格\n",
    "p1_table = pages[0].extract_table()"
   ],
   "outputs": [],
   "execution_count": 18
  },
  {
   "cell_type": "code",
   "id": "ee3c888d-62e6-4e73-bcc0-0a7a587b6580",
   "metadata": {
    "ExecuteTime": {
     "end_time": "2024-12-19T14:15:38.383200Z",
     "start_time": "2024-12-19T14:15:38.380193Z"
    }
   },
   "source": [
    "p1_table"
   ],
   "outputs": [
    {
     "data": {
      "text/plain": [
       "[['Fruit', 'Color', 'Price (USD)'],\n",
       " ['Apple', 'Red', '1.20'],\n",
       " ['Banana', 'Yellow', '0.50'],\n",
       " ['Orange', 'Orange', '0.80'],\n",
       " ['Strawberry', 'Red', '2.50'],\n",
       " ['Blueberry', 'Blue', '3.00'],\n",
       " ['Kiwi', 'Green', '1.00'],\n",
       " ['Mango', 'Orange', '1.50'],\n",
       " ['Grape', 'Purple', '2.00']]"
      ]
     },
     "execution_count": 19,
     "metadata": {},
     "output_type": "execute_result"
    }
   ],
   "execution_count": 19
  },
  {
   "cell_type": "code",
   "id": "9e9e7d7f-348e-4991-a3fd-085bec06efa8",
   "metadata": {
    "ExecuteTime": {
     "end_time": "2024-12-19T14:15:39.514687Z",
     "start_time": "2024-12-19T14:15:39.508479Z"
    }
   },
   "source": [
    "# 获取单页所有表格\n",
    "tables = pages[0].extract_tables()"
   ],
   "outputs": [],
   "execution_count": 20
  },
  {
   "cell_type": "code",
   "id": "dc2c8129-66e6-4ccd-9293-24de2b3fa06e",
   "metadata": {
    "ExecuteTime": {
     "end_time": "2024-12-19T14:15:40.214216Z",
     "start_time": "2024-12-19T14:15:40.211786Z"
    }
   },
   "source": [
    "len(tables)"
   ],
   "outputs": [
    {
     "data": {
      "text/plain": [
       "1"
      ]
     },
     "execution_count": 21,
     "metadata": {},
     "output_type": "execute_result"
    }
   ],
   "execution_count": 21
  },
  {
   "cell_type": "code",
   "id": "318abecd-36d1-450b-8f2c-381a78dbfe1f",
   "metadata": {
    "ExecuteTime": {
     "end_time": "2024-12-19T14:15:41.133246Z",
     "start_time": "2024-12-19T14:15:41.130237Z"
    }
   },
   "source": [
    "tables"
   ],
   "outputs": [
    {
     "data": {
      "text/plain": [
       "[[['Fruit', 'Color', 'Price (USD)'],\n",
       "  ['Apple', 'Red', '1.20'],\n",
       "  ['Banana', 'Yellow', '0.50'],\n",
       "  ['Orange', 'Orange', '0.80'],\n",
       "  ['Strawberry', 'Red', '2.50'],\n",
       "  ['Blueberry', 'Blue', '3.00'],\n",
       "  ['Kiwi', 'Green', '1.00'],\n",
       "  ['Mango', 'Orange', '1.50'],\n",
       "  ['Grape', 'Purple', '2.00']]]"
      ]
     },
     "execution_count": 22,
     "metadata": {},
     "output_type": "execute_result"
    }
   ],
   "execution_count": 22
  },
  {
   "cell_type": "code",
   "id": "2fbffdd0-8954-4a83-93c0-36fa22dd59b4",
   "metadata": {
    "ExecuteTime": {
     "end_time": "2024-12-19T14:15:41.701834Z",
     "start_time": "2024-12-19T14:15:41.698426Z"
    }
   },
   "source": [
    "p1_debug_table = pages[0].debug_tablefinder()"
   ],
   "outputs": [],
   "execution_count": 23
  },
  {
   "cell_type": "code",
   "id": "df8b8060-d054-4ebd-9ae5-34acaa8156d1",
   "metadata": {
    "ExecuteTime": {
     "end_time": "2024-12-19T14:15:42.269091Z",
     "start_time": "2024-12-19T14:15:42.266293Z"
    }
   },
   "source": [
    "type(p1_debug_table)"
   ],
   "outputs": [
    {
     "data": {
      "text/plain": [
       "pdfplumber.table.TableFinder"
      ]
     },
     "execution_count": 24,
     "metadata": {},
     "output_type": "execute_result"
    }
   ],
   "execution_count": 24
  },
  {
   "cell_type": "code",
   "id": "2951f438-a9c5-4e39-86d3-fe59a1989bfb",
   "metadata": {
    "ExecuteTime": {
     "end_time": "2024-12-19T14:15:42.819296Z",
     "start_time": "2024-12-19T14:15:42.816881Z"
    }
   },
   "source": [
    "p1_debug_table.tables"
   ],
   "outputs": [
    {
     "data": {
      "text/plain": [
       "[<pdfplumber.table.Table at 0x1090211b0>]"
      ]
     },
     "execution_count": 25,
     "metadata": {},
     "output_type": "execute_result"
    }
   ],
   "execution_count": 25
  },
  {
   "cell_type": "markdown",
   "id": "c1ec5e80-fc09-4816-b5c4-893e95b6f367",
   "metadata": {},
   "source": [
    "#### 使用 Pandas.DataFrame 来展示和存储表格"
   ]
  },
  {
   "cell_type": "code",
   "id": "97c2a7c0-ecb6-41ec-bb39-9bbe12f86ab1",
   "metadata": {
    "ExecuteTime": {
     "end_time": "2024-12-19T14:15:44.782152Z",
     "start_time": "2024-12-19T14:15:44.350387Z"
    }
   },
   "source": [
    "import pandas as pd\n",
    "\n",
    "df = pd.DataFrame(p1_table[1:], columns=p1_table[0])"
   ],
   "outputs": [],
   "execution_count": 26
  },
  {
   "cell_type": "code",
   "id": "581baa04-d5a1-4ce3-8580-891eda837b4d",
   "metadata": {
    "ExecuteTime": {
     "end_time": "2024-12-19T14:15:46.055633Z",
     "start_time": "2024-12-19T14:15:46.049657Z"
    }
   },
   "source": [
    "df"
   ],
   "outputs": [
    {
     "data": {
      "text/plain": [
       "        Fruit   Color Price (USD)\n",
       "0       Apple     Red        1.20\n",
       "1      Banana  Yellow        0.50\n",
       "2      Orange  Orange        0.80\n",
       "3  Strawberry     Red        2.50\n",
       "4   Blueberry    Blue        3.00\n",
       "5        Kiwi   Green        1.00\n",
       "6       Mango  Orange        1.50\n",
       "7       Grape  Purple        2.00"
      ],
      "text/html": [
       "<div>\n",
       "<style scoped>\n",
       "    .dataframe tbody tr th:only-of-type {\n",
       "        vertical-align: middle;\n",
       "    }\n",
       "\n",
       "    .dataframe tbody tr th {\n",
       "        vertical-align: top;\n",
       "    }\n",
       "\n",
       "    .dataframe thead th {\n",
       "        text-align: right;\n",
       "    }\n",
       "</style>\n",
       "<table border=\"1\" class=\"dataframe\">\n",
       "  <thead>\n",
       "    <tr style=\"text-align: right;\">\n",
       "      <th></th>\n",
       "      <th>Fruit</th>\n",
       "      <th>Color</th>\n",
       "      <th>Price (USD)</th>\n",
       "    </tr>\n",
       "  </thead>\n",
       "  <tbody>\n",
       "    <tr>\n",
       "      <th>0</th>\n",
       "      <td>Apple</td>\n",
       "      <td>Red</td>\n",
       "      <td>1.20</td>\n",
       "    </tr>\n",
       "    <tr>\n",
       "      <th>1</th>\n",
       "      <td>Banana</td>\n",
       "      <td>Yellow</td>\n",
       "      <td>0.50</td>\n",
       "    </tr>\n",
       "    <tr>\n",
       "      <th>2</th>\n",
       "      <td>Orange</td>\n",
       "      <td>Orange</td>\n",
       "      <td>0.80</td>\n",
       "    </tr>\n",
       "    <tr>\n",
       "      <th>3</th>\n",
       "      <td>Strawberry</td>\n",
       "      <td>Red</td>\n",
       "      <td>2.50</td>\n",
       "    </tr>\n",
       "    <tr>\n",
       "      <th>4</th>\n",
       "      <td>Blueberry</td>\n",
       "      <td>Blue</td>\n",
       "      <td>3.00</td>\n",
       "    </tr>\n",
       "    <tr>\n",
       "      <th>5</th>\n",
       "      <td>Kiwi</td>\n",
       "      <td>Green</td>\n",
       "      <td>1.00</td>\n",
       "    </tr>\n",
       "    <tr>\n",
       "      <th>6</th>\n",
       "      <td>Mango</td>\n",
       "      <td>Orange</td>\n",
       "      <td>1.50</td>\n",
       "    </tr>\n",
       "    <tr>\n",
       "      <th>7</th>\n",
       "      <td>Grape</td>\n",
       "      <td>Purple</td>\n",
       "      <td>2.00</td>\n",
       "    </tr>\n",
       "  </tbody>\n",
       "</table>\n",
       "</div>"
      ]
     },
     "execution_count": 27,
     "metadata": {},
     "output_type": "execute_result"
    }
   ],
   "execution_count": 27
  },
  {
   "cell_type": "markdown",
   "id": "bbb94c15-e006-455f-96bc-eece4e18cbd4",
   "metadata": {},
   "source": [
    "### 可视化调试页面\n",
    "\n",
    "`pdfplumber` 可视化调试工具可以帮助我们理解PDF文件的内容和结构，以及从中提取出来的对象。\n",
    "\n",
    "\n",
    "#### `PageImage` 类\n",
    "\n",
    "`pdfplumber.Page` 对象可以使用`.to_image()`方法，将任何页面（包括裁剪后的页面）转换为`PageImage`对象。\n",
    "\n",
    "`pdfplumber.Page.to_image()`方法主要参数：\n",
    "\n",
    "- resolution：所需每英寸像素数。默认值：72。类型：整数。\n",
    "- width：所需图像宽度（以像素为单位）。默认值：未设置，由分辨率确定。类型：整数。\n",
    "- height：所需图像高度（以像素为单位）。默认值：未设置，由分辨率确定。类型：整数。\n",
    "- antialias: 是否在创建图像时使用抗锯齿。将其设置为True可以创建具有较少锯齿的文本和图形，但文件大小会更大。默认值：False。类型：布尔值。"
   ]
  },
  {
   "cell_type": "code",
   "id": "6e4b1b0b-5dcd-4507-a6d0-a978a5e469f2",
   "metadata": {
    "scrolled": true,
    "ExecuteTime": {
     "end_time": "2024-12-19T14:15:48.871583Z",
     "start_time": "2024-12-19T14:15:48.748580Z"
    }
   },
   "source": [
    "# 可视化第一页\n",
    "pages[0].to_image()"
   ],
   "outputs": [
    {
     "ename": "ValueError",
     "evalue": "'png' is unsupported format",
     "output_type": "error",
     "traceback": [
      "\u001B[0;31m---------------------------------------------------------------------------\u001B[0m",
      "\u001B[0;31mValueError\u001B[0m                                Traceback (most recent call last)",
      "\u001B[0;32m/var/folders/p4/qg6f6bz94z10n2_w08mmhhk00000gn/T/ipykernel_1911/3171855774.py\u001B[0m in \u001B[0;36m?\u001B[0;34m()\u001B[0m\n\u001B[1;32m      1\u001B[0m \u001B[0;31m# 可视化第一页\u001B[0m\u001B[0;34m\u001B[0m\u001B[0;34m\u001B[0m\u001B[0m\n\u001B[0;32m----> 2\u001B[0;31m \u001B[0mpages\u001B[0m\u001B[0;34m[\u001B[0m\u001B[0;36m0\u001B[0m\u001B[0;34m]\u001B[0m\u001B[0;34m.\u001B[0m\u001B[0mto_image\u001B[0m\u001B[0;34m(\u001B[0m\u001B[0;34m)\u001B[0m\u001B[0;34m\u001B[0m\u001B[0;34m\u001B[0m\u001B[0m\n\u001B[0m",
      "\u001B[0;32m~/miniconda3/envs/openai-quickstart/lib/python3.10/site-packages/pdfplumber/page.py\u001B[0m in \u001B[0;36m?\u001B[0;34m(self, resolution, width, height)\u001B[0m\n\u001B[1;32m    427\u001B[0m             \u001B[0mresolution\u001B[0m \u001B[0;34m=\u001B[0m \u001B[0;36m72\u001B[0m \u001B[0;34m*\u001B[0m \u001B[0mwidth\u001B[0m \u001B[0;34m/\u001B[0m \u001B[0mself\u001B[0m\u001B[0;34m.\u001B[0m\u001B[0mwidth\u001B[0m\u001B[0;34m\u001B[0m\u001B[0;34m\u001B[0m\u001B[0m\n\u001B[1;32m    428\u001B[0m         \u001B[0;32melif\u001B[0m \u001B[0mheight\u001B[0m \u001B[0;32mis\u001B[0m \u001B[0;32mnot\u001B[0m \u001B[0;32mNone\u001B[0m\u001B[0;34m:\u001B[0m\u001B[0;34m\u001B[0m\u001B[0;34m\u001B[0m\u001B[0m\n\u001B[1;32m    429\u001B[0m             \u001B[0mresolution\u001B[0m \u001B[0;34m=\u001B[0m \u001B[0;36m72\u001B[0m \u001B[0;34m*\u001B[0m \u001B[0mheight\u001B[0m \u001B[0;34m/\u001B[0m \u001B[0mself\u001B[0m\u001B[0;34m.\u001B[0m\u001B[0mheight\u001B[0m\u001B[0;34m\u001B[0m\u001B[0;34m\u001B[0m\u001B[0m\n\u001B[1;32m    430\u001B[0m \u001B[0;34m\u001B[0m\u001B[0m\n\u001B[0;32m--> 431\u001B[0;31m         \u001B[0;32mreturn\u001B[0m \u001B[0mPageImage\u001B[0m\u001B[0;34m(\u001B[0m\u001B[0mself\u001B[0m\u001B[0;34m,\u001B[0m \u001B[0mresolution\u001B[0m\u001B[0;34m=\u001B[0m\u001B[0mresolution\u001B[0m \u001B[0;32mor\u001B[0m \u001B[0mDEFAULT_RESOLUTION\u001B[0m\u001B[0;34m)\u001B[0m\u001B[0;34m\u001B[0m\u001B[0;34m\u001B[0m\u001B[0m\n\u001B[0m",
      "\u001B[0;32m~/miniconda3/envs/openai-quickstart/lib/python3.10/site-packages/pdfplumber/display.py\u001B[0m in \u001B[0;36m?\u001B[0;34m(self, page, original, resolution)\u001B[0m\n\u001B[1;32m     91\u001B[0m         \u001B[0mresolution\u001B[0m\u001B[0;34m:\u001B[0m \u001B[0mUnion\u001B[0m\u001B[0;34m[\u001B[0m\u001B[0mint\u001B[0m\u001B[0;34m,\u001B[0m \u001B[0mfloat\u001B[0m\u001B[0;34m]\u001B[0m \u001B[0;34m=\u001B[0m \u001B[0mDEFAULT_RESOLUTION\u001B[0m\u001B[0;34m,\u001B[0m\u001B[0;34m\u001B[0m\u001B[0;34m\u001B[0m\u001B[0m\n\u001B[1;32m     92\u001B[0m     ):\n\u001B[1;32m     93\u001B[0m         \u001B[0mself\u001B[0m\u001B[0;34m.\u001B[0m\u001B[0mpage\u001B[0m \u001B[0;34m=\u001B[0m \u001B[0mpage\u001B[0m\u001B[0;34m\u001B[0m\u001B[0;34m\u001B[0m\u001B[0m\n\u001B[1;32m     94\u001B[0m         \u001B[0;32mif\u001B[0m \u001B[0moriginal\u001B[0m \u001B[0;32mis\u001B[0m \u001B[0;32mNone\u001B[0m\u001B[0;34m:\u001B[0m\u001B[0;34m\u001B[0m\u001B[0;34m\u001B[0m\u001B[0m\n\u001B[0;32m---> 95\u001B[0;31m             self.original = get_page_image(\n\u001B[0m\u001B[1;32m     96\u001B[0m                 \u001B[0mpage\u001B[0m\u001B[0;34m.\u001B[0m\u001B[0mpdf\u001B[0m\u001B[0;34m.\u001B[0m\u001B[0mstream\u001B[0m\u001B[0;34m,\u001B[0m \u001B[0mpage\u001B[0m\u001B[0;34m.\u001B[0m\u001B[0mpage_number\u001B[0m \u001B[0;34m-\u001B[0m \u001B[0;36m1\u001B[0m\u001B[0;34m,\u001B[0m \u001B[0mresolution\u001B[0m\u001B[0;34m\u001B[0m\u001B[0;34m\u001B[0m\u001B[0m\n\u001B[1;32m     97\u001B[0m             )\n\u001B[1;32m     98\u001B[0m         \u001B[0;32melse\u001B[0m\u001B[0;34m:\u001B[0m\u001B[0;34m\u001B[0m\u001B[0;34m\u001B[0m\u001B[0m\n",
      "\u001B[0;32m~/miniconda3/envs/openai-quickstart/lib/python3.10/site-packages/pdfplumber/display.py\u001B[0m in \u001B[0;36m?\u001B[0;34m(stream, page_no, resolution)\u001B[0m\n\u001B[1;32m     69\u001B[0m         ) as bg:\n\u001B[1;32m     70\u001B[0m             \u001B[0mbg\u001B[0m\u001B[0;34m.\u001B[0m\u001B[0mcomposite\u001B[0m\u001B[0;34m(\u001B[0m\u001B[0mimg\u001B[0m\u001B[0;34m,\u001B[0m \u001B[0;36m0\u001B[0m\u001B[0;34m,\u001B[0m \u001B[0;36m0\u001B[0m\u001B[0;34m)\u001B[0m\u001B[0;34m\u001B[0m\u001B[0;34m\u001B[0m\u001B[0m\n\u001B[1;32m     71\u001B[0m             \u001B[0;32mtry\u001B[0m\u001B[0;34m:\u001B[0m\u001B[0;34m\u001B[0m\u001B[0;34m\u001B[0m\u001B[0m\n\u001B[1;32m     72\u001B[0m                 \u001B[0mim\u001B[0m \u001B[0;34m=\u001B[0m \u001B[0mPIL\u001B[0m\u001B[0;34m.\u001B[0m\u001B[0mImage\u001B[0m\u001B[0;34m.\u001B[0m\u001B[0mopen\u001B[0m\u001B[0;34m(\u001B[0m\u001B[0mBytesIO\u001B[0m\u001B[0;34m(\u001B[0m\u001B[0mbg\u001B[0m\u001B[0;34m.\u001B[0m\u001B[0mmake_blob\u001B[0m\u001B[0;34m(\u001B[0m\u001B[0;34m\"png\"\u001B[0m\u001B[0;34m)\u001B[0m\u001B[0;34m)\u001B[0m\u001B[0;34m)\u001B[0m\u001B[0;34m\u001B[0m\u001B[0;34m\u001B[0m\u001B[0m\n\u001B[0;32m---> 73\u001B[0;31m             \u001B[0;32mexcept\u001B[0m \u001B[0mPIL\u001B[0m\u001B[0;34m.\u001B[0m\u001B[0mImage\u001B[0m\u001B[0;34m.\u001B[0m\u001B[0mDecompressionBombError\u001B[0m\u001B[0;34m:\u001B[0m\u001B[0;34m\u001B[0m\u001B[0;34m\u001B[0m\u001B[0m\n\u001B[0m\u001B[1;32m     74\u001B[0m                 raise PIL.Image.DecompressionBombError(\n\u001B[1;32m     75\u001B[0m                     \u001B[0;34m\"Image conversion raised a DecompressionBombError. \"\u001B[0m\u001B[0;34m\u001B[0m\u001B[0;34m\u001B[0m\u001B[0m\n\u001B[1;32m     76\u001B[0m                     \u001B[0;34m\"PIL.Image.MAX_IMAGE_PIXELS is currently set to \"\u001B[0m\u001B[0;34m\u001B[0m\u001B[0;34m\u001B[0m\u001B[0m\n",
      "\u001B[0;32m~/miniconda3/envs/openai-quickstart/lib/python3.10/site-packages/wand/image.py\u001B[0m in \u001B[0;36m?\u001B[0;34m(self, format)\u001B[0m\n\u001B[1;32m   9870\u001B[0m         \u001B[0;34m.\u001B[0m\u001B[0;34m.\u001B[0m \u001B[0mversionadded\u001B[0m\u001B[0;34m:\u001B[0m\u001B[0;34m:\u001B[0m \u001B[0;36m0.1\u001B[0m\u001B[0;36m.1\u001B[0m\u001B[0;34m\u001B[0m\u001B[0;34m\u001B[0m\u001B[0m\n\u001B[1;32m   9871\u001B[0m \u001B[0;34m\u001B[0m\u001B[0m\n\u001B[1;32m   9872\u001B[0m         \"\"\"\n\u001B[1;32m   9873\u001B[0m         \u001B[0;32mif\u001B[0m \u001B[0mformat\u001B[0m \u001B[0;32mis\u001B[0m \u001B[0;32mnot\u001B[0m \u001B[0;32mNone\u001B[0m\u001B[0;34m:\u001B[0m\u001B[0;34m\u001B[0m\u001B[0;34m\u001B[0m\u001B[0m\n\u001B[0;32m-> 9874\u001B[0;31m             \u001B[0;32mwith\u001B[0m \u001B[0mself\u001B[0m\u001B[0;34m.\u001B[0m\u001B[0mconvert\u001B[0m\u001B[0;34m(\u001B[0m\u001B[0mformat\u001B[0m\u001B[0;34m)\u001B[0m \u001B[0;32mas\u001B[0m \u001B[0mconverted\u001B[0m\u001B[0;34m:\u001B[0m\u001B[0;34m\u001B[0m\u001B[0;34m\u001B[0m\u001B[0m\n\u001B[0m\u001B[1;32m   9875\u001B[0m                 \u001B[0;32mreturn\u001B[0m \u001B[0mconverted\u001B[0m\u001B[0;34m.\u001B[0m\u001B[0mmake_blob\u001B[0m\u001B[0;34m(\u001B[0m\u001B[0;34m)\u001B[0m\u001B[0;34m\u001B[0m\u001B[0;34m\u001B[0m\u001B[0m\n\u001B[1;32m   9876\u001B[0m         \u001B[0mlibrary\u001B[0m\u001B[0;34m.\u001B[0m\u001B[0mMagickResetIterator\u001B[0m\u001B[0;34m(\u001B[0m\u001B[0mself\u001B[0m\u001B[0;34m.\u001B[0m\u001B[0mwand\u001B[0m\u001B[0;34m)\u001B[0m\u001B[0;34m\u001B[0m\u001B[0;34m\u001B[0m\u001B[0m\n\u001B[1;32m   9877\u001B[0m         \u001B[0mlength\u001B[0m \u001B[0;34m=\u001B[0m \u001B[0mctypes\u001B[0m\u001B[0;34m.\u001B[0m\u001B[0mc_size_t\u001B[0m\u001B[0;34m(\u001B[0m\u001B[0;34m)\u001B[0m\u001B[0;34m\u001B[0m\u001B[0;34m\u001B[0m\u001B[0m\n",
      "\u001B[0;32m~/miniconda3/envs/openai-quickstart/lib/python3.10/site-packages/wand/image.py\u001B[0m in \u001B[0;36m?\u001B[0;34m(self, format)\u001B[0m\n\u001B[1;32m   9755\u001B[0m         \u001B[0;34m.\u001B[0m\u001B[0;34m.\u001B[0m \u001B[0mversionadded\u001B[0m\u001B[0;34m:\u001B[0m\u001B[0;34m:\u001B[0m \u001B[0;36m0.1\u001B[0m\u001B[0;36m.6\u001B[0m\u001B[0;34m\u001B[0m\u001B[0;34m\u001B[0m\u001B[0m\n\u001B[1;32m   9756\u001B[0m \u001B[0;34m\u001B[0m\u001B[0m\n\u001B[1;32m   9757\u001B[0m         \"\"\"\n\u001B[1;32m   9758\u001B[0m         \u001B[0mcloned\u001B[0m \u001B[0;34m=\u001B[0m \u001B[0mself\u001B[0m\u001B[0;34m.\u001B[0m\u001B[0mclone\u001B[0m\u001B[0;34m(\u001B[0m\u001B[0;34m)\u001B[0m\u001B[0;34m\u001B[0m\u001B[0;34m\u001B[0m\u001B[0m\n\u001B[0;32m-> 9759\u001B[0;31m         \u001B[0mcloned\u001B[0m\u001B[0;34m.\u001B[0m\u001B[0mformat\u001B[0m \u001B[0;34m=\u001B[0m \u001B[0mformat\u001B[0m\u001B[0;34m\u001B[0m\u001B[0;34m\u001B[0m\u001B[0m\n\u001B[0m\u001B[1;32m   9760\u001B[0m         \u001B[0;32mreturn\u001B[0m \u001B[0mcloned\u001B[0m\u001B[0;34m\u001B[0m\u001B[0;34m\u001B[0m\u001B[0m\n",
      "\u001B[0;32m~/miniconda3/envs/openai-quickstart/lib/python3.10/site-packages/wand/image.py\u001B[0m in \u001B[0;36m?\u001B[0;34m(self, fmt)\u001B[0m\n\u001B[1;32m   1878\u001B[0m         \u001B[0massertions\u001B[0m\u001B[0;34m.\u001B[0m\u001B[0massert_string\u001B[0m\u001B[0;34m(\u001B[0m\u001B[0mformat\u001B[0m\u001B[0;34m=\u001B[0m\u001B[0mfmt\u001B[0m\u001B[0;34m)\u001B[0m\u001B[0;34m\u001B[0m\u001B[0;34m\u001B[0m\u001B[0m\n\u001B[1;32m   1879\u001B[0m         \u001B[0mfmt\u001B[0m \u001B[0;34m=\u001B[0m \u001B[0mfmt\u001B[0m\u001B[0;34m.\u001B[0m\u001B[0mstrip\u001B[0m\u001B[0;34m(\u001B[0m\u001B[0;34m)\u001B[0m\u001B[0;34m\u001B[0m\u001B[0;34m\u001B[0m\u001B[0m\n\u001B[1;32m   1880\u001B[0m         \u001B[0mr\u001B[0m \u001B[0;34m=\u001B[0m \u001B[0mlibrary\u001B[0m\u001B[0;34m.\u001B[0m\u001B[0mMagickSetImageFormat\u001B[0m\u001B[0;34m(\u001B[0m\u001B[0mself\u001B[0m\u001B[0;34m.\u001B[0m\u001B[0mwand\u001B[0m\u001B[0;34m,\u001B[0m \u001B[0mbinary\u001B[0m\u001B[0;34m(\u001B[0m\u001B[0mfmt\u001B[0m\u001B[0;34m.\u001B[0m\u001B[0mupper\u001B[0m\u001B[0;34m(\u001B[0m\u001B[0;34m)\u001B[0m\u001B[0;34m)\u001B[0m\u001B[0;34m)\u001B[0m\u001B[0;34m\u001B[0m\u001B[0;34m\u001B[0m\u001B[0m\n\u001B[1;32m   1881\u001B[0m         \u001B[0;32mif\u001B[0m \u001B[0;32mnot\u001B[0m \u001B[0mr\u001B[0m\u001B[0;34m:\u001B[0m\u001B[0;34m\u001B[0m\u001B[0;34m\u001B[0m\u001B[0m\n\u001B[0;32m-> 1882\u001B[0;31m             \u001B[0;32mraise\u001B[0m \u001B[0mValueError\u001B[0m\u001B[0;34m(\u001B[0m\u001B[0mrepr\u001B[0m\u001B[0;34m(\u001B[0m\u001B[0mfmt\u001B[0m\u001B[0;34m)\u001B[0m \u001B[0;34m+\u001B[0m \u001B[0;34m' is unsupported format'\u001B[0m\u001B[0;34m)\u001B[0m\u001B[0;34m\u001B[0m\u001B[0;34m\u001B[0m\u001B[0m\n\u001B[0m\u001B[1;32m   1883\u001B[0m         r = library.MagickSetFilename(self.wand,\n\u001B[1;32m   1884\u001B[0m                                       b'buffer.' + binary(fmt.lower()))\n\u001B[1;32m   1885\u001B[0m         \u001B[0;32mif\u001B[0m \u001B[0;32mnot\u001B[0m \u001B[0mr\u001B[0m\u001B[0;34m:\u001B[0m  \u001B[0;31m# pragma: no cover\u001B[0m\u001B[0;34m\u001B[0m\u001B[0;34m\u001B[0m\u001B[0m\n",
      "\u001B[0;31mValueError\u001B[0m: 'png' is unsupported format"
     ]
    }
   ],
   "execution_count": 28
  },
  {
   "cell_type": "code",
   "id": "877a430d-d933-4fec-8f5f-a3c0509b1de9",
   "metadata": {
    "ExecuteTime": {
     "end_time": "2024-12-19T14:15:49.524462Z",
     "start_time": "2024-12-19T14:15:49.421976Z"
    }
   },
   "source": [
    "# 可视化第二页（尝试调整分辨率和抗锯齿）\n",
    "pages[1].to_image()"
   ],
   "outputs": [
    {
     "ename": "ValueError",
     "evalue": "'png' is unsupported format",
     "output_type": "error",
     "traceback": [
      "\u001B[0;31m---------------------------------------------------------------------------\u001B[0m",
      "\u001B[0;31mValueError\u001B[0m                                Traceback (most recent call last)",
      "\u001B[0;32m/var/folders/p4/qg6f6bz94z10n2_w08mmhhk00000gn/T/ipykernel_1911/389164142.py\u001B[0m in \u001B[0;36m?\u001B[0;34m()\u001B[0m\n\u001B[1;32m      1\u001B[0m \u001B[0;31m# 可视化第二页（尝试调整分辨率和抗锯齿）\u001B[0m\u001B[0;34m\u001B[0m\u001B[0;34m\u001B[0m\u001B[0m\n\u001B[0;32m----> 2\u001B[0;31m \u001B[0mpages\u001B[0m\u001B[0;34m[\u001B[0m\u001B[0;36m1\u001B[0m\u001B[0;34m]\u001B[0m\u001B[0;34m.\u001B[0m\u001B[0mto_image\u001B[0m\u001B[0;34m(\u001B[0m\u001B[0;34m)\u001B[0m\u001B[0;34m\u001B[0m\u001B[0;34m\u001B[0m\u001B[0m\n\u001B[0m",
      "\u001B[0;32m~/miniconda3/envs/openai-quickstart/lib/python3.10/site-packages/pdfplumber/page.py\u001B[0m in \u001B[0;36m?\u001B[0;34m(self, resolution, width, height)\u001B[0m\n\u001B[1;32m    427\u001B[0m             \u001B[0mresolution\u001B[0m \u001B[0;34m=\u001B[0m \u001B[0;36m72\u001B[0m \u001B[0;34m*\u001B[0m \u001B[0mwidth\u001B[0m \u001B[0;34m/\u001B[0m \u001B[0mself\u001B[0m\u001B[0;34m.\u001B[0m\u001B[0mwidth\u001B[0m\u001B[0;34m\u001B[0m\u001B[0;34m\u001B[0m\u001B[0m\n\u001B[1;32m    428\u001B[0m         \u001B[0;32melif\u001B[0m \u001B[0mheight\u001B[0m \u001B[0;32mis\u001B[0m \u001B[0;32mnot\u001B[0m \u001B[0;32mNone\u001B[0m\u001B[0;34m:\u001B[0m\u001B[0;34m\u001B[0m\u001B[0;34m\u001B[0m\u001B[0m\n\u001B[1;32m    429\u001B[0m             \u001B[0mresolution\u001B[0m \u001B[0;34m=\u001B[0m \u001B[0;36m72\u001B[0m \u001B[0;34m*\u001B[0m \u001B[0mheight\u001B[0m \u001B[0;34m/\u001B[0m \u001B[0mself\u001B[0m\u001B[0;34m.\u001B[0m\u001B[0mheight\u001B[0m\u001B[0;34m\u001B[0m\u001B[0;34m\u001B[0m\u001B[0m\n\u001B[1;32m    430\u001B[0m \u001B[0;34m\u001B[0m\u001B[0m\n\u001B[0;32m--> 431\u001B[0;31m         \u001B[0;32mreturn\u001B[0m \u001B[0mPageImage\u001B[0m\u001B[0;34m(\u001B[0m\u001B[0mself\u001B[0m\u001B[0;34m,\u001B[0m \u001B[0mresolution\u001B[0m\u001B[0;34m=\u001B[0m\u001B[0mresolution\u001B[0m \u001B[0;32mor\u001B[0m \u001B[0mDEFAULT_RESOLUTION\u001B[0m\u001B[0;34m)\u001B[0m\u001B[0;34m\u001B[0m\u001B[0;34m\u001B[0m\u001B[0m\n\u001B[0m",
      "\u001B[0;32m~/miniconda3/envs/openai-quickstart/lib/python3.10/site-packages/pdfplumber/display.py\u001B[0m in \u001B[0;36m?\u001B[0;34m(self, page, original, resolution)\u001B[0m\n\u001B[1;32m     91\u001B[0m         \u001B[0mresolution\u001B[0m\u001B[0;34m:\u001B[0m \u001B[0mUnion\u001B[0m\u001B[0;34m[\u001B[0m\u001B[0mint\u001B[0m\u001B[0;34m,\u001B[0m \u001B[0mfloat\u001B[0m\u001B[0;34m]\u001B[0m \u001B[0;34m=\u001B[0m \u001B[0mDEFAULT_RESOLUTION\u001B[0m\u001B[0;34m,\u001B[0m\u001B[0;34m\u001B[0m\u001B[0;34m\u001B[0m\u001B[0m\n\u001B[1;32m     92\u001B[0m     ):\n\u001B[1;32m     93\u001B[0m         \u001B[0mself\u001B[0m\u001B[0;34m.\u001B[0m\u001B[0mpage\u001B[0m \u001B[0;34m=\u001B[0m \u001B[0mpage\u001B[0m\u001B[0;34m\u001B[0m\u001B[0;34m\u001B[0m\u001B[0m\n\u001B[1;32m     94\u001B[0m         \u001B[0;32mif\u001B[0m \u001B[0moriginal\u001B[0m \u001B[0;32mis\u001B[0m \u001B[0;32mNone\u001B[0m\u001B[0;34m:\u001B[0m\u001B[0;34m\u001B[0m\u001B[0;34m\u001B[0m\u001B[0m\n\u001B[0;32m---> 95\u001B[0;31m             self.original = get_page_image(\n\u001B[0m\u001B[1;32m     96\u001B[0m                 \u001B[0mpage\u001B[0m\u001B[0;34m.\u001B[0m\u001B[0mpdf\u001B[0m\u001B[0;34m.\u001B[0m\u001B[0mstream\u001B[0m\u001B[0;34m,\u001B[0m \u001B[0mpage\u001B[0m\u001B[0;34m.\u001B[0m\u001B[0mpage_number\u001B[0m \u001B[0;34m-\u001B[0m \u001B[0;36m1\u001B[0m\u001B[0;34m,\u001B[0m \u001B[0mresolution\u001B[0m\u001B[0;34m\u001B[0m\u001B[0;34m\u001B[0m\u001B[0m\n\u001B[1;32m     97\u001B[0m             )\n\u001B[1;32m     98\u001B[0m         \u001B[0;32melse\u001B[0m\u001B[0;34m:\u001B[0m\u001B[0;34m\u001B[0m\u001B[0;34m\u001B[0m\u001B[0m\n",
      "\u001B[0;32m~/miniconda3/envs/openai-quickstart/lib/python3.10/site-packages/pdfplumber/display.py\u001B[0m in \u001B[0;36m?\u001B[0;34m(stream, page_no, resolution)\u001B[0m\n\u001B[1;32m     69\u001B[0m         ) as bg:\n\u001B[1;32m     70\u001B[0m             \u001B[0mbg\u001B[0m\u001B[0;34m.\u001B[0m\u001B[0mcomposite\u001B[0m\u001B[0;34m(\u001B[0m\u001B[0mimg\u001B[0m\u001B[0;34m,\u001B[0m \u001B[0;36m0\u001B[0m\u001B[0;34m,\u001B[0m \u001B[0;36m0\u001B[0m\u001B[0;34m)\u001B[0m\u001B[0;34m\u001B[0m\u001B[0;34m\u001B[0m\u001B[0m\n\u001B[1;32m     71\u001B[0m             \u001B[0;32mtry\u001B[0m\u001B[0;34m:\u001B[0m\u001B[0;34m\u001B[0m\u001B[0;34m\u001B[0m\u001B[0m\n\u001B[1;32m     72\u001B[0m                 \u001B[0mim\u001B[0m \u001B[0;34m=\u001B[0m \u001B[0mPIL\u001B[0m\u001B[0;34m.\u001B[0m\u001B[0mImage\u001B[0m\u001B[0;34m.\u001B[0m\u001B[0mopen\u001B[0m\u001B[0;34m(\u001B[0m\u001B[0mBytesIO\u001B[0m\u001B[0;34m(\u001B[0m\u001B[0mbg\u001B[0m\u001B[0;34m.\u001B[0m\u001B[0mmake_blob\u001B[0m\u001B[0;34m(\u001B[0m\u001B[0;34m\"png\"\u001B[0m\u001B[0;34m)\u001B[0m\u001B[0;34m)\u001B[0m\u001B[0;34m)\u001B[0m\u001B[0;34m\u001B[0m\u001B[0;34m\u001B[0m\u001B[0m\n\u001B[0;32m---> 73\u001B[0;31m             \u001B[0;32mexcept\u001B[0m \u001B[0mPIL\u001B[0m\u001B[0;34m.\u001B[0m\u001B[0mImage\u001B[0m\u001B[0;34m.\u001B[0m\u001B[0mDecompressionBombError\u001B[0m\u001B[0;34m:\u001B[0m\u001B[0;34m\u001B[0m\u001B[0;34m\u001B[0m\u001B[0m\n\u001B[0m\u001B[1;32m     74\u001B[0m                 raise PIL.Image.DecompressionBombError(\n\u001B[1;32m     75\u001B[0m                     \u001B[0;34m\"Image conversion raised a DecompressionBombError. \"\u001B[0m\u001B[0;34m\u001B[0m\u001B[0;34m\u001B[0m\u001B[0m\n\u001B[1;32m     76\u001B[0m                     \u001B[0;34m\"PIL.Image.MAX_IMAGE_PIXELS is currently set to \"\u001B[0m\u001B[0;34m\u001B[0m\u001B[0;34m\u001B[0m\u001B[0m\n",
      "\u001B[0;32m~/miniconda3/envs/openai-quickstart/lib/python3.10/site-packages/wand/image.py\u001B[0m in \u001B[0;36m?\u001B[0;34m(self, format)\u001B[0m\n\u001B[1;32m   9870\u001B[0m         \u001B[0;34m.\u001B[0m\u001B[0;34m.\u001B[0m \u001B[0mversionadded\u001B[0m\u001B[0;34m:\u001B[0m\u001B[0;34m:\u001B[0m \u001B[0;36m0.1\u001B[0m\u001B[0;36m.1\u001B[0m\u001B[0;34m\u001B[0m\u001B[0;34m\u001B[0m\u001B[0m\n\u001B[1;32m   9871\u001B[0m \u001B[0;34m\u001B[0m\u001B[0m\n\u001B[1;32m   9872\u001B[0m         \"\"\"\n\u001B[1;32m   9873\u001B[0m         \u001B[0;32mif\u001B[0m \u001B[0mformat\u001B[0m \u001B[0;32mis\u001B[0m \u001B[0;32mnot\u001B[0m \u001B[0;32mNone\u001B[0m\u001B[0;34m:\u001B[0m\u001B[0;34m\u001B[0m\u001B[0;34m\u001B[0m\u001B[0m\n\u001B[0;32m-> 9874\u001B[0;31m             \u001B[0;32mwith\u001B[0m \u001B[0mself\u001B[0m\u001B[0;34m.\u001B[0m\u001B[0mconvert\u001B[0m\u001B[0;34m(\u001B[0m\u001B[0mformat\u001B[0m\u001B[0;34m)\u001B[0m \u001B[0;32mas\u001B[0m \u001B[0mconverted\u001B[0m\u001B[0;34m:\u001B[0m\u001B[0;34m\u001B[0m\u001B[0;34m\u001B[0m\u001B[0m\n\u001B[0m\u001B[1;32m   9875\u001B[0m                 \u001B[0;32mreturn\u001B[0m \u001B[0mconverted\u001B[0m\u001B[0;34m.\u001B[0m\u001B[0mmake_blob\u001B[0m\u001B[0;34m(\u001B[0m\u001B[0;34m)\u001B[0m\u001B[0;34m\u001B[0m\u001B[0;34m\u001B[0m\u001B[0m\n\u001B[1;32m   9876\u001B[0m         \u001B[0mlibrary\u001B[0m\u001B[0;34m.\u001B[0m\u001B[0mMagickResetIterator\u001B[0m\u001B[0;34m(\u001B[0m\u001B[0mself\u001B[0m\u001B[0;34m.\u001B[0m\u001B[0mwand\u001B[0m\u001B[0;34m)\u001B[0m\u001B[0;34m\u001B[0m\u001B[0;34m\u001B[0m\u001B[0m\n\u001B[1;32m   9877\u001B[0m         \u001B[0mlength\u001B[0m \u001B[0;34m=\u001B[0m \u001B[0mctypes\u001B[0m\u001B[0;34m.\u001B[0m\u001B[0mc_size_t\u001B[0m\u001B[0;34m(\u001B[0m\u001B[0;34m)\u001B[0m\u001B[0;34m\u001B[0m\u001B[0;34m\u001B[0m\u001B[0m\n",
      "\u001B[0;32m~/miniconda3/envs/openai-quickstart/lib/python3.10/site-packages/wand/image.py\u001B[0m in \u001B[0;36m?\u001B[0;34m(self, format)\u001B[0m\n\u001B[1;32m   9755\u001B[0m         \u001B[0;34m.\u001B[0m\u001B[0;34m.\u001B[0m \u001B[0mversionadded\u001B[0m\u001B[0;34m:\u001B[0m\u001B[0;34m:\u001B[0m \u001B[0;36m0.1\u001B[0m\u001B[0;36m.6\u001B[0m\u001B[0;34m\u001B[0m\u001B[0;34m\u001B[0m\u001B[0m\n\u001B[1;32m   9756\u001B[0m \u001B[0;34m\u001B[0m\u001B[0m\n\u001B[1;32m   9757\u001B[0m         \"\"\"\n\u001B[1;32m   9758\u001B[0m         \u001B[0mcloned\u001B[0m \u001B[0;34m=\u001B[0m \u001B[0mself\u001B[0m\u001B[0;34m.\u001B[0m\u001B[0mclone\u001B[0m\u001B[0;34m(\u001B[0m\u001B[0;34m)\u001B[0m\u001B[0;34m\u001B[0m\u001B[0;34m\u001B[0m\u001B[0m\n\u001B[0;32m-> 9759\u001B[0;31m         \u001B[0mcloned\u001B[0m\u001B[0;34m.\u001B[0m\u001B[0mformat\u001B[0m \u001B[0;34m=\u001B[0m \u001B[0mformat\u001B[0m\u001B[0;34m\u001B[0m\u001B[0;34m\u001B[0m\u001B[0m\n\u001B[0m\u001B[1;32m   9760\u001B[0m         \u001B[0;32mreturn\u001B[0m \u001B[0mcloned\u001B[0m\u001B[0;34m\u001B[0m\u001B[0;34m\u001B[0m\u001B[0m\n",
      "\u001B[0;32m~/miniconda3/envs/openai-quickstart/lib/python3.10/site-packages/wand/image.py\u001B[0m in \u001B[0;36m?\u001B[0;34m(self, fmt)\u001B[0m\n\u001B[1;32m   1878\u001B[0m         \u001B[0massertions\u001B[0m\u001B[0;34m.\u001B[0m\u001B[0massert_string\u001B[0m\u001B[0;34m(\u001B[0m\u001B[0mformat\u001B[0m\u001B[0;34m=\u001B[0m\u001B[0mfmt\u001B[0m\u001B[0;34m)\u001B[0m\u001B[0;34m\u001B[0m\u001B[0;34m\u001B[0m\u001B[0m\n\u001B[1;32m   1879\u001B[0m         \u001B[0mfmt\u001B[0m \u001B[0;34m=\u001B[0m \u001B[0mfmt\u001B[0m\u001B[0;34m.\u001B[0m\u001B[0mstrip\u001B[0m\u001B[0;34m(\u001B[0m\u001B[0;34m)\u001B[0m\u001B[0;34m\u001B[0m\u001B[0;34m\u001B[0m\u001B[0m\n\u001B[1;32m   1880\u001B[0m         \u001B[0mr\u001B[0m \u001B[0;34m=\u001B[0m \u001B[0mlibrary\u001B[0m\u001B[0;34m.\u001B[0m\u001B[0mMagickSetImageFormat\u001B[0m\u001B[0;34m(\u001B[0m\u001B[0mself\u001B[0m\u001B[0;34m.\u001B[0m\u001B[0mwand\u001B[0m\u001B[0;34m,\u001B[0m \u001B[0mbinary\u001B[0m\u001B[0;34m(\u001B[0m\u001B[0mfmt\u001B[0m\u001B[0;34m.\u001B[0m\u001B[0mupper\u001B[0m\u001B[0;34m(\u001B[0m\u001B[0;34m)\u001B[0m\u001B[0;34m)\u001B[0m\u001B[0;34m)\u001B[0m\u001B[0;34m\u001B[0m\u001B[0;34m\u001B[0m\u001B[0m\n\u001B[1;32m   1881\u001B[0m         \u001B[0;32mif\u001B[0m \u001B[0;32mnot\u001B[0m \u001B[0mr\u001B[0m\u001B[0;34m:\u001B[0m\u001B[0;34m\u001B[0m\u001B[0;34m\u001B[0m\u001B[0m\n\u001B[0;32m-> 1882\u001B[0;31m             \u001B[0;32mraise\u001B[0m \u001B[0mValueError\u001B[0m\u001B[0;34m(\u001B[0m\u001B[0mrepr\u001B[0m\u001B[0;34m(\u001B[0m\u001B[0mfmt\u001B[0m\u001B[0;34m)\u001B[0m \u001B[0;34m+\u001B[0m \u001B[0;34m' is unsupported format'\u001B[0m\u001B[0;34m)\u001B[0m\u001B[0;34m\u001B[0m\u001B[0;34m\u001B[0m\u001B[0m\n\u001B[0m\u001B[1;32m   1883\u001B[0m         r = library.MagickSetFilename(self.wand,\n\u001B[1;32m   1884\u001B[0m                                       b'buffer.' + binary(fmt.lower()))\n\u001B[1;32m   1885\u001B[0m         \u001B[0;32mif\u001B[0m \u001B[0;32mnot\u001B[0m \u001B[0mr\u001B[0m\u001B[0;34m:\u001B[0m  \u001B[0;31m# pragma: no cover\u001B[0m\u001B[0;34m\u001B[0m\u001B[0;34m\u001B[0m\u001B[0m\n",
      "\u001B[0;31mValueError\u001B[0m: 'png' is unsupported format"
     ]
    }
   ],
   "execution_count": 29
  },
  {
   "cell_type": "code",
   "id": "c3ef0aff-e2b9-4e1b-bb8e-e736185935ff",
   "metadata": {
    "ExecuteTime": {
     "end_time": "2024-12-19T14:15:50.867964Z",
     "start_time": "2024-12-19T14:15:50.866329Z"
    }
   },
   "source": [],
   "outputs": [],
   "execution_count": null
  },
  {
   "cell_type": "markdown",
   "id": "5163fa2d-7a98-4c12-84d9-70e1182afde8",
   "metadata": {},
   "source": [
    "### 提取页面图像\n",
    "\n",
    "`pdfplumber.Page`  对象没有 extract_images 方法，所以不能直接从 PDF 页面中提取图像。\n",
    "\n",
    "但是，可以通过页面操作来截取和获取图像，`pdfplumber.Page`类相关成员变量如下：\n",
    "\n",
    "\n",
    "| 属性 | 描述 |\n",
    "|----------|-------------|\n",
    "|`.width`| 页面的宽度。|\n",
    "|`.height`| 页面的高度。|\n",
    "|`.objects` / `.chars` / `.lines` / `.rects` / `.curves` / `.images`| 这些属性都是列表，每个列表包含页面上嵌入的每个此类对象的一个字典。\n",
    "\n",
    "\n",
    "相关成员方法：\n",
    "\n",
    "| 方法 | 描述 |\n",
    "|--------|-------------|\n",
    "|`.crop(bounding_box, relative=False, strict=True)`| 返回裁剪到边界框的页面版本，边界框应表示为4元组，值为 `(x0, top, x1, bottom)`。裁剪的页面保留至少部分在边界框内的对象。如果对象只部分在框内，其尺寸将被切割以适应边界框。如果 `relative=True`，则边界框是从页面边界框的左上角偏移计算的，而不是绝对定位。（请参见 [Issue #245](https://github.com/jsvine/pdfplumber/issues/245) 以获取视觉示例和解释。）当 `strict=True`（默认值）时，裁剪的边界框必须完全在页面的边界框内。|\n",
    "|`.within_bbox(bounding_box, relative=False, strict=True)`| 类似于 `.crop`，但只保留 *完全在* 边界框内的对象。|\n",
    "|`.outside_bbox(bounding_box, relative=False, strict=True)`| 类似于 `.crop` 和 `.within_bbox`，但只保留 *完全在* 边界框外的对象。|\n",
    "|`.filter(test_function)`| 返回只有 `test_function(obj)` 返回 `True` 的 `.objects` 的页面版本。|\n",
    "\n"
   ]
  },
  {
   "cell_type": "code",
   "id": "8c6c4c76-d425-4a0d-bd62-2f502afec961",
   "metadata": {
    "ExecuteTime": {
     "end_time": "2024-12-19T14:15:52.033163Z",
     "start_time": "2024-12-19T14:15:52.010553Z"
    }
   },
   "source": [
    "# 从 PageImage 中获取页面图像分辨率\n",
    "pages[1].images"
   ],
   "outputs": [
    {
     "data": {
      "text/plain": [
       "[{'x0': 61.25348,\n",
       "  'y0': 443.9213,\n",
       "  'x1': 533.74648,\n",
       "  'y1': 801.8948,\n",
       "  'width': 472.493,\n",
       "  'height': 357.97350000000006,\n",
       "  'name': 'Im1',\n",
       "  'stream': <PDFStream(17): raw=1522591, {'Type': /'XObject', 'Subtype': /'Image', 'Width': 1288, 'Height': 975, 'Interpolate': True, 'ColorSpace': <PDFObjRef:18>, 'Intent': /'Perceptual', 'BitsPerComponent': 8, 'Length': 1522590, 'Filter': /'FlateDecode'}>,\n",
       "  'srcsize': (1288, 975),\n",
       "  'imagemask': None,\n",
       "  'bits': 8,\n",
       "  'colorspace': [[/'ICCBased',\n",
       "    <PDFStream(19): raw=2758, {'N': 3, 'Alternate': /'DeviceRGB', 'Length': 2757, 'Filter': /'FlateDecode'}>]],\n",
       "  'object_type': 'image',\n",
       "  'page_number': 2,\n",
       "  'top': 40.10519999999997,\n",
       "  'bottom': 398.0787,\n",
       "  'doctop': 882.1052}]"
      ]
     },
     "execution_count": 30,
     "metadata": {},
     "output_type": "execute_result"
    }
   ],
   "execution_count": 30
  },
  {
   "cell_type": "code",
   "id": "29efdd4e-f31b-4612-a046-b9537cdb58ce",
   "metadata": {
    "ExecuteTime": {
     "end_time": "2024-12-19T14:15:53.181080Z",
     "start_time": "2024-12-19T14:15:53.178782Z"
    }
   },
   "source": [
    "img = pages[1].images[0]"
   ],
   "outputs": [],
   "execution_count": 31
  },
  {
   "cell_type": "code",
   "id": "4eaf103b-bd3c-4081-861c-79f30438ea8c",
   "metadata": {
    "ExecuteTime": {
     "end_time": "2024-12-19T14:15:53.573857Z",
     "start_time": "2024-12-19T14:15:53.571724Z"
    }
   },
   "source": [
    "bbox = (img[\"x0\"], img[\"top\"], img[\"x1\"], img[\"bottom\"])"
   ],
   "outputs": [],
   "execution_count": 32
  },
  {
   "cell_type": "code",
   "id": "d685120d-b734-4f99-9cdb-3636c08a56ed",
   "metadata": {
    "ExecuteTime": {
     "end_time": "2024-12-19T14:15:54.126756Z",
     "start_time": "2024-12-19T14:15:54.124740Z"
    }
   },
   "source": [
    "cropped_page = pages[1].crop(bbox)"
   ],
   "outputs": [],
   "execution_count": 33
  },
  {
   "cell_type": "code",
   "id": "a6b5e99e-85df-4e6c-8087-17b61f49eb7b",
   "metadata": {
    "ExecuteTime": {
     "end_time": "2024-12-19T14:15:55.547680Z",
     "start_time": "2024-12-19T14:15:55.443712Z"
    }
   },
   "source": [
    "# 可视化裁剪后的第二页\n",
    "cropped_page.to_image()"
   ],
   "outputs": [
    {
     "ename": "ValueError",
     "evalue": "'png' is unsupported format",
     "output_type": "error",
     "traceback": [
      "\u001B[0;31m---------------------------------------------------------------------------\u001B[0m",
      "\u001B[0;31mValueError\u001B[0m                                Traceback (most recent call last)",
      "\u001B[0;32m/var/folders/p4/qg6f6bz94z10n2_w08mmhhk00000gn/T/ipykernel_1911/1604737925.py\u001B[0m in \u001B[0;36m?\u001B[0;34m()\u001B[0m\n\u001B[1;32m      1\u001B[0m \u001B[0;31m# 可视化裁剪后的第二页\u001B[0m\u001B[0;34m\u001B[0m\u001B[0;34m\u001B[0m\u001B[0m\n\u001B[0;32m----> 2\u001B[0;31m \u001B[0mcropped_page\u001B[0m\u001B[0;34m.\u001B[0m\u001B[0mto_image\u001B[0m\u001B[0;34m(\u001B[0m\u001B[0;34m)\u001B[0m\u001B[0;34m\u001B[0m\u001B[0;34m\u001B[0m\u001B[0m\n\u001B[0m",
      "\u001B[0;32m~/miniconda3/envs/openai-quickstart/lib/python3.10/site-packages/pdfplumber/page.py\u001B[0m in \u001B[0;36m?\u001B[0;34m(self, resolution, width, height)\u001B[0m\n\u001B[1;32m    427\u001B[0m             \u001B[0mresolution\u001B[0m \u001B[0;34m=\u001B[0m \u001B[0;36m72\u001B[0m \u001B[0;34m*\u001B[0m \u001B[0mwidth\u001B[0m \u001B[0;34m/\u001B[0m \u001B[0mself\u001B[0m\u001B[0;34m.\u001B[0m\u001B[0mwidth\u001B[0m\u001B[0;34m\u001B[0m\u001B[0;34m\u001B[0m\u001B[0m\n\u001B[1;32m    428\u001B[0m         \u001B[0;32melif\u001B[0m \u001B[0mheight\u001B[0m \u001B[0;32mis\u001B[0m \u001B[0;32mnot\u001B[0m \u001B[0;32mNone\u001B[0m\u001B[0;34m:\u001B[0m\u001B[0;34m\u001B[0m\u001B[0;34m\u001B[0m\u001B[0m\n\u001B[1;32m    429\u001B[0m             \u001B[0mresolution\u001B[0m \u001B[0;34m=\u001B[0m \u001B[0;36m72\u001B[0m \u001B[0;34m*\u001B[0m \u001B[0mheight\u001B[0m \u001B[0;34m/\u001B[0m \u001B[0mself\u001B[0m\u001B[0;34m.\u001B[0m\u001B[0mheight\u001B[0m\u001B[0;34m\u001B[0m\u001B[0;34m\u001B[0m\u001B[0m\n\u001B[1;32m    430\u001B[0m \u001B[0;34m\u001B[0m\u001B[0m\n\u001B[0;32m--> 431\u001B[0;31m         \u001B[0;32mreturn\u001B[0m \u001B[0mPageImage\u001B[0m\u001B[0;34m(\u001B[0m\u001B[0mself\u001B[0m\u001B[0;34m,\u001B[0m \u001B[0mresolution\u001B[0m\u001B[0;34m=\u001B[0m\u001B[0mresolution\u001B[0m \u001B[0;32mor\u001B[0m \u001B[0mDEFAULT_RESOLUTION\u001B[0m\u001B[0;34m)\u001B[0m\u001B[0;34m\u001B[0m\u001B[0;34m\u001B[0m\u001B[0m\n\u001B[0m",
      "\u001B[0;32m~/miniconda3/envs/openai-quickstart/lib/python3.10/site-packages/pdfplumber/display.py\u001B[0m in \u001B[0;36m?\u001B[0;34m(self, page, original, resolution)\u001B[0m\n\u001B[1;32m     91\u001B[0m         \u001B[0mresolution\u001B[0m\u001B[0;34m:\u001B[0m \u001B[0mUnion\u001B[0m\u001B[0;34m[\u001B[0m\u001B[0mint\u001B[0m\u001B[0;34m,\u001B[0m \u001B[0mfloat\u001B[0m\u001B[0;34m]\u001B[0m \u001B[0;34m=\u001B[0m \u001B[0mDEFAULT_RESOLUTION\u001B[0m\u001B[0;34m,\u001B[0m\u001B[0;34m\u001B[0m\u001B[0;34m\u001B[0m\u001B[0m\n\u001B[1;32m     92\u001B[0m     ):\n\u001B[1;32m     93\u001B[0m         \u001B[0mself\u001B[0m\u001B[0;34m.\u001B[0m\u001B[0mpage\u001B[0m \u001B[0;34m=\u001B[0m \u001B[0mpage\u001B[0m\u001B[0;34m\u001B[0m\u001B[0;34m\u001B[0m\u001B[0m\n\u001B[1;32m     94\u001B[0m         \u001B[0;32mif\u001B[0m \u001B[0moriginal\u001B[0m \u001B[0;32mis\u001B[0m \u001B[0;32mNone\u001B[0m\u001B[0;34m:\u001B[0m\u001B[0;34m\u001B[0m\u001B[0;34m\u001B[0m\u001B[0m\n\u001B[0;32m---> 95\u001B[0;31m             self.original = get_page_image(\n\u001B[0m\u001B[1;32m     96\u001B[0m                 \u001B[0mpage\u001B[0m\u001B[0;34m.\u001B[0m\u001B[0mpdf\u001B[0m\u001B[0;34m.\u001B[0m\u001B[0mstream\u001B[0m\u001B[0;34m,\u001B[0m \u001B[0mpage\u001B[0m\u001B[0;34m.\u001B[0m\u001B[0mpage_number\u001B[0m \u001B[0;34m-\u001B[0m \u001B[0;36m1\u001B[0m\u001B[0;34m,\u001B[0m \u001B[0mresolution\u001B[0m\u001B[0;34m\u001B[0m\u001B[0;34m\u001B[0m\u001B[0m\n\u001B[1;32m     97\u001B[0m             )\n\u001B[1;32m     98\u001B[0m         \u001B[0;32melse\u001B[0m\u001B[0;34m:\u001B[0m\u001B[0;34m\u001B[0m\u001B[0;34m\u001B[0m\u001B[0m\n",
      "\u001B[0;32m~/miniconda3/envs/openai-quickstart/lib/python3.10/site-packages/pdfplumber/display.py\u001B[0m in \u001B[0;36m?\u001B[0;34m(stream, page_no, resolution)\u001B[0m\n\u001B[1;32m     69\u001B[0m         ) as bg:\n\u001B[1;32m     70\u001B[0m             \u001B[0mbg\u001B[0m\u001B[0;34m.\u001B[0m\u001B[0mcomposite\u001B[0m\u001B[0;34m(\u001B[0m\u001B[0mimg\u001B[0m\u001B[0;34m,\u001B[0m \u001B[0;36m0\u001B[0m\u001B[0;34m,\u001B[0m \u001B[0;36m0\u001B[0m\u001B[0;34m)\u001B[0m\u001B[0;34m\u001B[0m\u001B[0;34m\u001B[0m\u001B[0m\n\u001B[1;32m     71\u001B[0m             \u001B[0;32mtry\u001B[0m\u001B[0;34m:\u001B[0m\u001B[0;34m\u001B[0m\u001B[0;34m\u001B[0m\u001B[0m\n\u001B[1;32m     72\u001B[0m                 \u001B[0mim\u001B[0m \u001B[0;34m=\u001B[0m \u001B[0mPIL\u001B[0m\u001B[0;34m.\u001B[0m\u001B[0mImage\u001B[0m\u001B[0;34m.\u001B[0m\u001B[0mopen\u001B[0m\u001B[0;34m(\u001B[0m\u001B[0mBytesIO\u001B[0m\u001B[0;34m(\u001B[0m\u001B[0mbg\u001B[0m\u001B[0;34m.\u001B[0m\u001B[0mmake_blob\u001B[0m\u001B[0;34m(\u001B[0m\u001B[0;34m\"png\"\u001B[0m\u001B[0;34m)\u001B[0m\u001B[0;34m)\u001B[0m\u001B[0;34m)\u001B[0m\u001B[0;34m\u001B[0m\u001B[0;34m\u001B[0m\u001B[0m\n\u001B[0;32m---> 73\u001B[0;31m             \u001B[0;32mexcept\u001B[0m \u001B[0mPIL\u001B[0m\u001B[0;34m.\u001B[0m\u001B[0mImage\u001B[0m\u001B[0;34m.\u001B[0m\u001B[0mDecompressionBombError\u001B[0m\u001B[0;34m:\u001B[0m\u001B[0;34m\u001B[0m\u001B[0;34m\u001B[0m\u001B[0m\n\u001B[0m\u001B[1;32m     74\u001B[0m                 raise PIL.Image.DecompressionBombError(\n\u001B[1;32m     75\u001B[0m                     \u001B[0;34m\"Image conversion raised a DecompressionBombError. \"\u001B[0m\u001B[0;34m\u001B[0m\u001B[0;34m\u001B[0m\u001B[0m\n\u001B[1;32m     76\u001B[0m                     \u001B[0;34m\"PIL.Image.MAX_IMAGE_PIXELS is currently set to \"\u001B[0m\u001B[0;34m\u001B[0m\u001B[0;34m\u001B[0m\u001B[0m\n",
      "\u001B[0;32m~/miniconda3/envs/openai-quickstart/lib/python3.10/site-packages/wand/image.py\u001B[0m in \u001B[0;36m?\u001B[0;34m(self, format)\u001B[0m\n\u001B[1;32m   9870\u001B[0m         \u001B[0;34m.\u001B[0m\u001B[0;34m.\u001B[0m \u001B[0mversionadded\u001B[0m\u001B[0;34m:\u001B[0m\u001B[0;34m:\u001B[0m \u001B[0;36m0.1\u001B[0m\u001B[0;36m.1\u001B[0m\u001B[0;34m\u001B[0m\u001B[0;34m\u001B[0m\u001B[0m\n\u001B[1;32m   9871\u001B[0m \u001B[0;34m\u001B[0m\u001B[0m\n\u001B[1;32m   9872\u001B[0m         \"\"\"\n\u001B[1;32m   9873\u001B[0m         \u001B[0;32mif\u001B[0m \u001B[0mformat\u001B[0m \u001B[0;32mis\u001B[0m \u001B[0;32mnot\u001B[0m \u001B[0;32mNone\u001B[0m\u001B[0;34m:\u001B[0m\u001B[0;34m\u001B[0m\u001B[0;34m\u001B[0m\u001B[0m\n\u001B[0;32m-> 9874\u001B[0;31m             \u001B[0;32mwith\u001B[0m \u001B[0mself\u001B[0m\u001B[0;34m.\u001B[0m\u001B[0mconvert\u001B[0m\u001B[0;34m(\u001B[0m\u001B[0mformat\u001B[0m\u001B[0;34m)\u001B[0m \u001B[0;32mas\u001B[0m \u001B[0mconverted\u001B[0m\u001B[0;34m:\u001B[0m\u001B[0;34m\u001B[0m\u001B[0;34m\u001B[0m\u001B[0m\n\u001B[0m\u001B[1;32m   9875\u001B[0m                 \u001B[0;32mreturn\u001B[0m \u001B[0mconverted\u001B[0m\u001B[0;34m.\u001B[0m\u001B[0mmake_blob\u001B[0m\u001B[0;34m(\u001B[0m\u001B[0;34m)\u001B[0m\u001B[0;34m\u001B[0m\u001B[0;34m\u001B[0m\u001B[0m\n\u001B[1;32m   9876\u001B[0m         \u001B[0mlibrary\u001B[0m\u001B[0;34m.\u001B[0m\u001B[0mMagickResetIterator\u001B[0m\u001B[0;34m(\u001B[0m\u001B[0mself\u001B[0m\u001B[0;34m.\u001B[0m\u001B[0mwand\u001B[0m\u001B[0;34m)\u001B[0m\u001B[0;34m\u001B[0m\u001B[0;34m\u001B[0m\u001B[0m\n\u001B[1;32m   9877\u001B[0m         \u001B[0mlength\u001B[0m \u001B[0;34m=\u001B[0m \u001B[0mctypes\u001B[0m\u001B[0;34m.\u001B[0m\u001B[0mc_size_t\u001B[0m\u001B[0;34m(\u001B[0m\u001B[0;34m)\u001B[0m\u001B[0;34m\u001B[0m\u001B[0;34m\u001B[0m\u001B[0m\n",
      "\u001B[0;32m~/miniconda3/envs/openai-quickstart/lib/python3.10/site-packages/wand/image.py\u001B[0m in \u001B[0;36m?\u001B[0;34m(self, format)\u001B[0m\n\u001B[1;32m   9755\u001B[0m         \u001B[0;34m.\u001B[0m\u001B[0;34m.\u001B[0m \u001B[0mversionadded\u001B[0m\u001B[0;34m:\u001B[0m\u001B[0;34m:\u001B[0m \u001B[0;36m0.1\u001B[0m\u001B[0;36m.6\u001B[0m\u001B[0;34m\u001B[0m\u001B[0;34m\u001B[0m\u001B[0m\n\u001B[1;32m   9756\u001B[0m \u001B[0;34m\u001B[0m\u001B[0m\n\u001B[1;32m   9757\u001B[0m         \"\"\"\n\u001B[1;32m   9758\u001B[0m         \u001B[0mcloned\u001B[0m \u001B[0;34m=\u001B[0m \u001B[0mself\u001B[0m\u001B[0;34m.\u001B[0m\u001B[0mclone\u001B[0m\u001B[0;34m(\u001B[0m\u001B[0;34m)\u001B[0m\u001B[0;34m\u001B[0m\u001B[0;34m\u001B[0m\u001B[0m\n\u001B[0;32m-> 9759\u001B[0;31m         \u001B[0mcloned\u001B[0m\u001B[0;34m.\u001B[0m\u001B[0mformat\u001B[0m \u001B[0;34m=\u001B[0m \u001B[0mformat\u001B[0m\u001B[0;34m\u001B[0m\u001B[0;34m\u001B[0m\u001B[0m\n\u001B[0m\u001B[1;32m   9760\u001B[0m         \u001B[0;32mreturn\u001B[0m \u001B[0mcloned\u001B[0m\u001B[0;34m\u001B[0m\u001B[0;34m\u001B[0m\u001B[0m\n",
      "\u001B[0;32m~/miniconda3/envs/openai-quickstart/lib/python3.10/site-packages/wand/image.py\u001B[0m in \u001B[0;36m?\u001B[0;34m(self, fmt)\u001B[0m\n\u001B[1;32m   1878\u001B[0m         \u001B[0massertions\u001B[0m\u001B[0;34m.\u001B[0m\u001B[0massert_string\u001B[0m\u001B[0;34m(\u001B[0m\u001B[0mformat\u001B[0m\u001B[0;34m=\u001B[0m\u001B[0mfmt\u001B[0m\u001B[0;34m)\u001B[0m\u001B[0;34m\u001B[0m\u001B[0;34m\u001B[0m\u001B[0m\n\u001B[1;32m   1879\u001B[0m         \u001B[0mfmt\u001B[0m \u001B[0;34m=\u001B[0m \u001B[0mfmt\u001B[0m\u001B[0;34m.\u001B[0m\u001B[0mstrip\u001B[0m\u001B[0;34m(\u001B[0m\u001B[0;34m)\u001B[0m\u001B[0;34m\u001B[0m\u001B[0;34m\u001B[0m\u001B[0m\n\u001B[1;32m   1880\u001B[0m         \u001B[0mr\u001B[0m \u001B[0;34m=\u001B[0m \u001B[0mlibrary\u001B[0m\u001B[0;34m.\u001B[0m\u001B[0mMagickSetImageFormat\u001B[0m\u001B[0;34m(\u001B[0m\u001B[0mself\u001B[0m\u001B[0;34m.\u001B[0m\u001B[0mwand\u001B[0m\u001B[0;34m,\u001B[0m \u001B[0mbinary\u001B[0m\u001B[0;34m(\u001B[0m\u001B[0mfmt\u001B[0m\u001B[0;34m.\u001B[0m\u001B[0mupper\u001B[0m\u001B[0;34m(\u001B[0m\u001B[0;34m)\u001B[0m\u001B[0;34m)\u001B[0m\u001B[0;34m)\u001B[0m\u001B[0;34m\u001B[0m\u001B[0;34m\u001B[0m\u001B[0m\n\u001B[1;32m   1881\u001B[0m         \u001B[0;32mif\u001B[0m \u001B[0;32mnot\u001B[0m \u001B[0mr\u001B[0m\u001B[0;34m:\u001B[0m\u001B[0;34m\u001B[0m\u001B[0;34m\u001B[0m\u001B[0m\n\u001B[0;32m-> 1882\u001B[0;31m             \u001B[0;32mraise\u001B[0m \u001B[0mValueError\u001B[0m\u001B[0;34m(\u001B[0m\u001B[0mrepr\u001B[0m\u001B[0;34m(\u001B[0m\u001B[0mfmt\u001B[0m\u001B[0;34m)\u001B[0m \u001B[0;34m+\u001B[0m \u001B[0;34m' is unsupported format'\u001B[0m\u001B[0;34m)\u001B[0m\u001B[0;34m\u001B[0m\u001B[0;34m\u001B[0m\u001B[0m\n\u001B[0m\u001B[1;32m   1883\u001B[0m         r = library.MagickSetFilename(self.wand,\n\u001B[1;32m   1884\u001B[0m                                       b'buffer.' + binary(fmt.lower()))\n\u001B[1;32m   1885\u001B[0m         \u001B[0;32mif\u001B[0m \u001B[0;32mnot\u001B[0m \u001B[0mr\u001B[0m\u001B[0;34m:\u001B[0m  \u001B[0;31m# pragma: no cover\u001B[0m\u001B[0;34m\u001B[0m\u001B[0;34m\u001B[0m\u001B[0m\n",
      "\u001B[0;31mValueError\u001B[0m: 'png' is unsupported format"
     ]
    }
   ],
   "execution_count": 34
  },
  {
   "cell_type": "code",
   "id": "53fc4125-d027-4803-a080-bb2464694310",
   "metadata": {
    "ExecuteTime": {
     "end_time": "2024-12-19T14:15:57.896717Z",
     "start_time": "2024-12-19T14:15:57.829224Z"
    }
   },
   "source": [
    "# 可视化裁剪后的第二页+抗锯齿\n",
    "cropped_page.to_image(antialias=True)"
   ],
   "outputs": [
    {
     "ename": "TypeError",
     "evalue": "Page.to_image() got an unexpected keyword argument 'antialias'",
     "output_type": "error",
     "traceback": [
      "\u001B[0;31m---------------------------------------------------------------------------\u001B[0m",
      "\u001B[0;31mTypeError\u001B[0m                                 Traceback (most recent call last)",
      "Cell \u001B[0;32mIn[35], line 2\u001B[0m\n\u001B[1;32m      1\u001B[0m \u001B[38;5;66;03m# 可视化裁剪后的第二页+抗锯齿\u001B[39;00m\n\u001B[0;32m----> 2\u001B[0m \u001B[43mcropped_page\u001B[49m\u001B[38;5;241;43m.\u001B[39;49m\u001B[43mto_image\u001B[49m\u001B[43m(\u001B[49m\u001B[43mantialias\u001B[49m\u001B[38;5;241;43m=\u001B[39;49m\u001B[38;5;28;43;01mTrue\u001B[39;49;00m\u001B[43m)\u001B[49m\n",
      "\u001B[0;31mTypeError\u001B[0m: Page.to_image() got an unexpected keyword argument 'antialias'"
     ]
    }
   ],
   "execution_count": 35
  },
  {
   "cell_type": "code",
   "id": "46de8387-6bf1-47eb-b915-56b31ed690de",
   "metadata": {
    "ExecuteTime": {
     "end_time": "2024-12-19T14:16:00.720986Z",
     "start_time": "2024-12-19T14:15:58.677328Z"
    }
   },
   "source": [
    "cropped_page.to_image(resolution=1080)"
   ],
   "outputs": [
    {
     "ename": "ValueError",
     "evalue": "'png' is unsupported format",
     "output_type": "error",
     "traceback": [
      "\u001B[0;31m---------------------------------------------------------------------------\u001B[0m",
      "\u001B[0;31mValueError\u001B[0m                                Traceback (most recent call last)",
      "\u001B[0;32m/var/folders/p4/qg6f6bz94z10n2_w08mmhhk00000gn/T/ipykernel_1911/76219614.py\u001B[0m in \u001B[0;36m?\u001B[0;34m()\u001B[0m\n\u001B[0;32m----> 1\u001B[0;31m \u001B[0mcropped_page\u001B[0m\u001B[0;34m.\u001B[0m\u001B[0mto_image\u001B[0m\u001B[0;34m(\u001B[0m\u001B[0mresolution\u001B[0m\u001B[0;34m=\u001B[0m\u001B[0;36m1080\u001B[0m\u001B[0;34m)\u001B[0m\u001B[0;34m\u001B[0m\u001B[0;34m\u001B[0m\u001B[0m\n\u001B[0m",
      "\u001B[0;32m~/miniconda3/envs/openai-quickstart/lib/python3.10/site-packages/pdfplumber/page.py\u001B[0m in \u001B[0;36m?\u001B[0;34m(self, resolution, width, height)\u001B[0m\n\u001B[1;32m    427\u001B[0m             \u001B[0mresolution\u001B[0m \u001B[0;34m=\u001B[0m \u001B[0;36m72\u001B[0m \u001B[0;34m*\u001B[0m \u001B[0mwidth\u001B[0m \u001B[0;34m/\u001B[0m \u001B[0mself\u001B[0m\u001B[0;34m.\u001B[0m\u001B[0mwidth\u001B[0m\u001B[0;34m\u001B[0m\u001B[0;34m\u001B[0m\u001B[0m\n\u001B[1;32m    428\u001B[0m         \u001B[0;32melif\u001B[0m \u001B[0mheight\u001B[0m \u001B[0;32mis\u001B[0m \u001B[0;32mnot\u001B[0m \u001B[0;32mNone\u001B[0m\u001B[0;34m:\u001B[0m\u001B[0;34m\u001B[0m\u001B[0;34m\u001B[0m\u001B[0m\n\u001B[1;32m    429\u001B[0m             \u001B[0mresolution\u001B[0m \u001B[0;34m=\u001B[0m \u001B[0;36m72\u001B[0m \u001B[0;34m*\u001B[0m \u001B[0mheight\u001B[0m \u001B[0;34m/\u001B[0m \u001B[0mself\u001B[0m\u001B[0;34m.\u001B[0m\u001B[0mheight\u001B[0m\u001B[0;34m\u001B[0m\u001B[0;34m\u001B[0m\u001B[0m\n\u001B[1;32m    430\u001B[0m \u001B[0;34m\u001B[0m\u001B[0m\n\u001B[0;32m--> 431\u001B[0;31m         \u001B[0;32mreturn\u001B[0m \u001B[0mPageImage\u001B[0m\u001B[0;34m(\u001B[0m\u001B[0mself\u001B[0m\u001B[0;34m,\u001B[0m \u001B[0mresolution\u001B[0m\u001B[0;34m=\u001B[0m\u001B[0mresolution\u001B[0m \u001B[0;32mor\u001B[0m \u001B[0mDEFAULT_RESOLUTION\u001B[0m\u001B[0;34m)\u001B[0m\u001B[0;34m\u001B[0m\u001B[0;34m\u001B[0m\u001B[0m\n\u001B[0m",
      "\u001B[0;32m~/miniconda3/envs/openai-quickstart/lib/python3.10/site-packages/pdfplumber/display.py\u001B[0m in \u001B[0;36m?\u001B[0;34m(self, page, original, resolution)\u001B[0m\n\u001B[1;32m     91\u001B[0m         \u001B[0mresolution\u001B[0m\u001B[0;34m:\u001B[0m \u001B[0mUnion\u001B[0m\u001B[0;34m[\u001B[0m\u001B[0mint\u001B[0m\u001B[0;34m,\u001B[0m \u001B[0mfloat\u001B[0m\u001B[0;34m]\u001B[0m \u001B[0;34m=\u001B[0m \u001B[0mDEFAULT_RESOLUTION\u001B[0m\u001B[0;34m,\u001B[0m\u001B[0;34m\u001B[0m\u001B[0;34m\u001B[0m\u001B[0m\n\u001B[1;32m     92\u001B[0m     ):\n\u001B[1;32m     93\u001B[0m         \u001B[0mself\u001B[0m\u001B[0;34m.\u001B[0m\u001B[0mpage\u001B[0m \u001B[0;34m=\u001B[0m \u001B[0mpage\u001B[0m\u001B[0;34m\u001B[0m\u001B[0;34m\u001B[0m\u001B[0m\n\u001B[1;32m     94\u001B[0m         \u001B[0;32mif\u001B[0m \u001B[0moriginal\u001B[0m \u001B[0;32mis\u001B[0m \u001B[0;32mNone\u001B[0m\u001B[0;34m:\u001B[0m\u001B[0;34m\u001B[0m\u001B[0;34m\u001B[0m\u001B[0m\n\u001B[0;32m---> 95\u001B[0;31m             self.original = get_page_image(\n\u001B[0m\u001B[1;32m     96\u001B[0m                 \u001B[0mpage\u001B[0m\u001B[0;34m.\u001B[0m\u001B[0mpdf\u001B[0m\u001B[0;34m.\u001B[0m\u001B[0mstream\u001B[0m\u001B[0;34m,\u001B[0m \u001B[0mpage\u001B[0m\u001B[0;34m.\u001B[0m\u001B[0mpage_number\u001B[0m \u001B[0;34m-\u001B[0m \u001B[0;36m1\u001B[0m\u001B[0;34m,\u001B[0m \u001B[0mresolution\u001B[0m\u001B[0;34m\u001B[0m\u001B[0;34m\u001B[0m\u001B[0m\n\u001B[1;32m     97\u001B[0m             )\n\u001B[1;32m     98\u001B[0m         \u001B[0;32melse\u001B[0m\u001B[0;34m:\u001B[0m\u001B[0;34m\u001B[0m\u001B[0;34m\u001B[0m\u001B[0m\n",
      "\u001B[0;32m~/miniconda3/envs/openai-quickstart/lib/python3.10/site-packages/pdfplumber/display.py\u001B[0m in \u001B[0;36m?\u001B[0;34m(stream, page_no, resolution)\u001B[0m\n\u001B[1;32m     69\u001B[0m         ) as bg:\n\u001B[1;32m     70\u001B[0m             \u001B[0mbg\u001B[0m\u001B[0;34m.\u001B[0m\u001B[0mcomposite\u001B[0m\u001B[0;34m(\u001B[0m\u001B[0mimg\u001B[0m\u001B[0;34m,\u001B[0m \u001B[0;36m0\u001B[0m\u001B[0;34m,\u001B[0m \u001B[0;36m0\u001B[0m\u001B[0;34m)\u001B[0m\u001B[0;34m\u001B[0m\u001B[0;34m\u001B[0m\u001B[0m\n\u001B[1;32m     71\u001B[0m             \u001B[0;32mtry\u001B[0m\u001B[0;34m:\u001B[0m\u001B[0;34m\u001B[0m\u001B[0;34m\u001B[0m\u001B[0m\n\u001B[1;32m     72\u001B[0m                 \u001B[0mim\u001B[0m \u001B[0;34m=\u001B[0m \u001B[0mPIL\u001B[0m\u001B[0;34m.\u001B[0m\u001B[0mImage\u001B[0m\u001B[0;34m.\u001B[0m\u001B[0mopen\u001B[0m\u001B[0;34m(\u001B[0m\u001B[0mBytesIO\u001B[0m\u001B[0;34m(\u001B[0m\u001B[0mbg\u001B[0m\u001B[0;34m.\u001B[0m\u001B[0mmake_blob\u001B[0m\u001B[0;34m(\u001B[0m\u001B[0;34m\"png\"\u001B[0m\u001B[0;34m)\u001B[0m\u001B[0;34m)\u001B[0m\u001B[0;34m)\u001B[0m\u001B[0;34m\u001B[0m\u001B[0;34m\u001B[0m\u001B[0m\n\u001B[0;32m---> 73\u001B[0;31m             \u001B[0;32mexcept\u001B[0m \u001B[0mPIL\u001B[0m\u001B[0;34m.\u001B[0m\u001B[0mImage\u001B[0m\u001B[0;34m.\u001B[0m\u001B[0mDecompressionBombError\u001B[0m\u001B[0;34m:\u001B[0m\u001B[0;34m\u001B[0m\u001B[0;34m\u001B[0m\u001B[0m\n\u001B[0m\u001B[1;32m     74\u001B[0m                 raise PIL.Image.DecompressionBombError(\n\u001B[1;32m     75\u001B[0m                     \u001B[0;34m\"Image conversion raised a DecompressionBombError. \"\u001B[0m\u001B[0;34m\u001B[0m\u001B[0;34m\u001B[0m\u001B[0m\n\u001B[1;32m     76\u001B[0m                     \u001B[0;34m\"PIL.Image.MAX_IMAGE_PIXELS is currently set to \"\u001B[0m\u001B[0;34m\u001B[0m\u001B[0;34m\u001B[0m\u001B[0m\n",
      "\u001B[0;32m~/miniconda3/envs/openai-quickstart/lib/python3.10/site-packages/wand/image.py\u001B[0m in \u001B[0;36m?\u001B[0;34m(self, format)\u001B[0m\n\u001B[1;32m   9870\u001B[0m         \u001B[0;34m.\u001B[0m\u001B[0;34m.\u001B[0m \u001B[0mversionadded\u001B[0m\u001B[0;34m:\u001B[0m\u001B[0;34m:\u001B[0m \u001B[0;36m0.1\u001B[0m\u001B[0;36m.1\u001B[0m\u001B[0;34m\u001B[0m\u001B[0;34m\u001B[0m\u001B[0m\n\u001B[1;32m   9871\u001B[0m \u001B[0;34m\u001B[0m\u001B[0m\n\u001B[1;32m   9872\u001B[0m         \"\"\"\n\u001B[1;32m   9873\u001B[0m         \u001B[0;32mif\u001B[0m \u001B[0mformat\u001B[0m \u001B[0;32mis\u001B[0m \u001B[0;32mnot\u001B[0m \u001B[0;32mNone\u001B[0m\u001B[0;34m:\u001B[0m\u001B[0;34m\u001B[0m\u001B[0;34m\u001B[0m\u001B[0m\n\u001B[0;32m-> 9874\u001B[0;31m             \u001B[0;32mwith\u001B[0m \u001B[0mself\u001B[0m\u001B[0;34m.\u001B[0m\u001B[0mconvert\u001B[0m\u001B[0;34m(\u001B[0m\u001B[0mformat\u001B[0m\u001B[0;34m)\u001B[0m \u001B[0;32mas\u001B[0m \u001B[0mconverted\u001B[0m\u001B[0;34m:\u001B[0m\u001B[0;34m\u001B[0m\u001B[0;34m\u001B[0m\u001B[0m\n\u001B[0m\u001B[1;32m   9875\u001B[0m                 \u001B[0;32mreturn\u001B[0m \u001B[0mconverted\u001B[0m\u001B[0;34m.\u001B[0m\u001B[0mmake_blob\u001B[0m\u001B[0;34m(\u001B[0m\u001B[0;34m)\u001B[0m\u001B[0;34m\u001B[0m\u001B[0;34m\u001B[0m\u001B[0m\n\u001B[1;32m   9876\u001B[0m         \u001B[0mlibrary\u001B[0m\u001B[0;34m.\u001B[0m\u001B[0mMagickResetIterator\u001B[0m\u001B[0;34m(\u001B[0m\u001B[0mself\u001B[0m\u001B[0;34m.\u001B[0m\u001B[0mwand\u001B[0m\u001B[0;34m)\u001B[0m\u001B[0;34m\u001B[0m\u001B[0;34m\u001B[0m\u001B[0m\n\u001B[1;32m   9877\u001B[0m         \u001B[0mlength\u001B[0m \u001B[0;34m=\u001B[0m \u001B[0mctypes\u001B[0m\u001B[0;34m.\u001B[0m\u001B[0mc_size_t\u001B[0m\u001B[0;34m(\u001B[0m\u001B[0;34m)\u001B[0m\u001B[0;34m\u001B[0m\u001B[0;34m\u001B[0m\u001B[0m\n",
      "\u001B[0;32m~/miniconda3/envs/openai-quickstart/lib/python3.10/site-packages/wand/image.py\u001B[0m in \u001B[0;36m?\u001B[0;34m(self, format)\u001B[0m\n\u001B[1;32m   9755\u001B[0m         \u001B[0;34m.\u001B[0m\u001B[0;34m.\u001B[0m \u001B[0mversionadded\u001B[0m\u001B[0;34m:\u001B[0m\u001B[0;34m:\u001B[0m \u001B[0;36m0.1\u001B[0m\u001B[0;36m.6\u001B[0m\u001B[0;34m\u001B[0m\u001B[0;34m\u001B[0m\u001B[0m\n\u001B[1;32m   9756\u001B[0m \u001B[0;34m\u001B[0m\u001B[0m\n\u001B[1;32m   9757\u001B[0m         \"\"\"\n\u001B[1;32m   9758\u001B[0m         \u001B[0mcloned\u001B[0m \u001B[0;34m=\u001B[0m \u001B[0mself\u001B[0m\u001B[0;34m.\u001B[0m\u001B[0mclone\u001B[0m\u001B[0;34m(\u001B[0m\u001B[0;34m)\u001B[0m\u001B[0;34m\u001B[0m\u001B[0;34m\u001B[0m\u001B[0m\n\u001B[0;32m-> 9759\u001B[0;31m         \u001B[0mcloned\u001B[0m\u001B[0;34m.\u001B[0m\u001B[0mformat\u001B[0m \u001B[0;34m=\u001B[0m \u001B[0mformat\u001B[0m\u001B[0;34m\u001B[0m\u001B[0;34m\u001B[0m\u001B[0m\n\u001B[0m\u001B[1;32m   9760\u001B[0m         \u001B[0;32mreturn\u001B[0m \u001B[0mcloned\u001B[0m\u001B[0;34m\u001B[0m\u001B[0;34m\u001B[0m\u001B[0m\n",
      "\u001B[0;32m~/miniconda3/envs/openai-quickstart/lib/python3.10/site-packages/wand/image.py\u001B[0m in \u001B[0;36m?\u001B[0;34m(self, fmt)\u001B[0m\n\u001B[1;32m   1878\u001B[0m         \u001B[0massertions\u001B[0m\u001B[0;34m.\u001B[0m\u001B[0massert_string\u001B[0m\u001B[0;34m(\u001B[0m\u001B[0mformat\u001B[0m\u001B[0;34m=\u001B[0m\u001B[0mfmt\u001B[0m\u001B[0;34m)\u001B[0m\u001B[0;34m\u001B[0m\u001B[0;34m\u001B[0m\u001B[0m\n\u001B[1;32m   1879\u001B[0m         \u001B[0mfmt\u001B[0m \u001B[0;34m=\u001B[0m \u001B[0mfmt\u001B[0m\u001B[0;34m.\u001B[0m\u001B[0mstrip\u001B[0m\u001B[0;34m(\u001B[0m\u001B[0;34m)\u001B[0m\u001B[0;34m\u001B[0m\u001B[0;34m\u001B[0m\u001B[0m\n\u001B[1;32m   1880\u001B[0m         \u001B[0mr\u001B[0m \u001B[0;34m=\u001B[0m \u001B[0mlibrary\u001B[0m\u001B[0;34m.\u001B[0m\u001B[0mMagickSetImageFormat\u001B[0m\u001B[0;34m(\u001B[0m\u001B[0mself\u001B[0m\u001B[0;34m.\u001B[0m\u001B[0mwand\u001B[0m\u001B[0;34m,\u001B[0m \u001B[0mbinary\u001B[0m\u001B[0;34m(\u001B[0m\u001B[0mfmt\u001B[0m\u001B[0;34m.\u001B[0m\u001B[0mupper\u001B[0m\u001B[0;34m(\u001B[0m\u001B[0;34m)\u001B[0m\u001B[0;34m)\u001B[0m\u001B[0;34m)\u001B[0m\u001B[0;34m\u001B[0m\u001B[0;34m\u001B[0m\u001B[0m\n\u001B[1;32m   1881\u001B[0m         \u001B[0;32mif\u001B[0m \u001B[0;32mnot\u001B[0m \u001B[0mr\u001B[0m\u001B[0;34m:\u001B[0m\u001B[0;34m\u001B[0m\u001B[0;34m\u001B[0m\u001B[0m\n\u001B[0;32m-> 1882\u001B[0;31m             \u001B[0;32mraise\u001B[0m \u001B[0mValueError\u001B[0m\u001B[0;34m(\u001B[0m\u001B[0mrepr\u001B[0m\u001B[0;34m(\u001B[0m\u001B[0mfmt\u001B[0m\u001B[0;34m)\u001B[0m \u001B[0;34m+\u001B[0m \u001B[0;34m' is unsupported format'\u001B[0m\u001B[0;34m)\u001B[0m\u001B[0;34m\u001B[0m\u001B[0;34m\u001B[0m\u001B[0m\n\u001B[0m\u001B[1;32m   1883\u001B[0m         r = library.MagickSetFilename(self.wand,\n\u001B[1;32m   1884\u001B[0m                                       b'buffer.' + binary(fmt.lower()))\n\u001B[1;32m   1885\u001B[0m         \u001B[0;32mif\u001B[0m \u001B[0;32mnot\u001B[0m \u001B[0mr\u001B[0m\u001B[0;34m:\u001B[0m  \u001B[0;31m# pragma: no cover\u001B[0m\u001B[0;34m\u001B[0m\u001B[0;34m\u001B[0m\u001B[0m\n",
      "\u001B[0;31mValueError\u001B[0m: 'png' is unsupported format"
     ]
    }
   ],
   "execution_count": 36
  },
  {
   "cell_type": "code",
   "id": "3bd9f9ae-58d4-4f3a-aac9-3814a463ca55",
   "metadata": {
    "ExecuteTime": {
     "end_time": "2024-12-19T14:16:02.041442Z",
     "start_time": "2024-12-19T14:16:02.011258Z"
    }
   },
   "source": [
    "im = cropped_page.to_image(antialias=True)\n",
    "im.save(\"pdf_image_test.png\")"
   ],
   "outputs": [
    {
     "ename": "TypeError",
     "evalue": "Page.to_image() got an unexpected keyword argument 'antialias'",
     "output_type": "error",
     "traceback": [
      "\u001B[0;31m---------------------------------------------------------------------------\u001B[0m",
      "\u001B[0;31mTypeError\u001B[0m                                 Traceback (most recent call last)",
      "Cell \u001B[0;32mIn[37], line 1\u001B[0m\n\u001B[0;32m----> 1\u001B[0m im \u001B[38;5;241m=\u001B[39m \u001B[43mcropped_page\u001B[49m\u001B[38;5;241;43m.\u001B[39;49m\u001B[43mto_image\u001B[49m\u001B[43m(\u001B[49m\u001B[43mantialias\u001B[49m\u001B[38;5;241;43m=\u001B[39;49m\u001B[38;5;28;43;01mTrue\u001B[39;49;00m\u001B[43m)\u001B[49m\n\u001B[1;32m      2\u001B[0m im\u001B[38;5;241m.\u001B[39msave(\u001B[38;5;124m\"\u001B[39m\u001B[38;5;124mpdf_image_test.png\u001B[39m\u001B[38;5;124m\"\u001B[39m)\n",
      "\u001B[0;31mTypeError\u001B[0m: Page.to_image() got an unexpected keyword argument 'antialias'"
     ]
    }
   ],
   "execution_count": 37
  },
  {
   "cell_type": "code",
   "id": "bbb480bc-a7ee-48bf-bfcf-14120acf6e2f",
   "metadata": {
    "ExecuteTime": {
     "end_time": "2024-12-19T14:16:03.095940Z",
     "start_time": "2024-12-19T14:16:03.094113Z"
    }
   },
   "source": [],
   "outputs": [],
   "execution_count": null
  },
  {
   "cell_type": "code",
   "id": "a48babba-33d5-4529-ab98-c3c60ed541fb",
   "metadata": {
    "ExecuteTime": {
     "end_time": "2024-12-19T14:16:03.668594Z",
     "start_time": "2024-12-19T14:16:03.667067Z"
    }
   },
   "source": [],
   "outputs": [],
   "execution_count": null
  },
  {
   "cell_type": "code",
   "execution_count": null,
   "id": "bd66c8f0-42be-4f7c-863c-68bf2b2ef996",
   "metadata": {},
   "outputs": [],
   "source": []
  }
 ],
 "metadata": {
  "kernelspec": {
   "display_name": "Python 3 (ipykernel)",
   "language": "python",
   "name": "python3"
  },
  "language_info": {
   "codemirror_mode": {
    "name": "ipython",
    "version": 3
   },
   "file_extension": ".py",
   "mimetype": "text/x-python",
   "name": "python",
   "nbconvert_exporter": "python",
   "pygments_lexer": "ipython3",
   "version": "3.10.11"
  }
 },
 "nbformat": 4,
 "nbformat_minor": 5
}
